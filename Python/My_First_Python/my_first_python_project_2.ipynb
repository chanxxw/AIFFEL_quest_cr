{
  "nbformat": 4,
  "nbformat_minor": 0,
  "metadata": {
    "colab": {
      "provenance": [],
      "include_colab_link": true
    },
    "kernelspec": {
      "name": "python3",
      "display_name": "Python 3"
    },
    "language_info": {
      "name": "python"
    }
  },
  "cells": [
    {
      "cell_type": "markdown",
      "metadata": {
        "id": "view-in-github",
        "colab_type": "text"
      },
      "source": [
        "<a href=\"https://colab.research.google.com/github/chanxxw/AIFFEL_quest_cr/blob/master/Python/My_First_Python/my_first_python_project_2.ipynb\" target=\"_parent\"><img src=\"https://colab.research.google.com/assets/colab-badge.svg\" alt=\"Open In Colab\"/></a>"
      ]
    },
    {
      "cell_type": "markdown",
      "source": [
        "# 2일차 프로젝트: 🧙‍♀️✨ 성공한 포션상점, 새로운 도전! 🧪📈\n",
        "\n",
        "이세계에서의 당신의 파이썬 마법으로 포션 상점이 대박났어요! 🎉 취준생에서 이세계 최고의 포션샵 매니저로 성장한 당신 덕분에 상점은 나날이 번창하고 있답니다! 가게가 커지면서 포션 종류도 다양해지고 재고도 늘어났는데... 이제는 기존 방식으론 관리가 버거워졌어요! 더 효율적인 관리 시스템이 필요한 시간이네요! 💻  \n",
        "\n",
        "<img src=\"https://drive.google.com/uc?export=view&id=1exbAh2pOCJ1mBUr4B9QTPi4KufVSJlPm\" width=\"480\"/>\n"
      ],
      "metadata": {
        "id": "4-Aq_StQFxsZ"
      }
    },
    {
      "cell_type": "markdown",
      "source": [
        "### 1단계: 판매할 포션 목록 만들기 📋\n",
        "\n",
        "오늘 아침, 상점 주인이 신나게 뛰어왔어요! \"큰 소식이야! 우리도 이제 '행운의 물약'과 '투명 포션'을 팔 수 있게 됐어!\"상점에 판매하는 포션 종류가 더 다양해졌네요!\n",
        "\n",
        "그런데 마침 방문한 손님이 \"어떤 포션들이 있나요?\" 하고 물어보는데, 상점 주인이 머리를 긁적이며 \"음... 체력 포션, 마나 포션, 그리고... 음...\" 하며 기억하기 힘들어하네요.\n",
        "\n",
        "이렇게 많은 물품을 일일이 기억하는 건 너무 비효율적이겠죠? 모든 포션을 체계적으로 관리할 때가 왔어요!\n",
        "\n",
        "- 포션 이름과 가격, 재고를 각각의 리스트로 만들어요\n",
        "    - 체력 포션: 575 골드, 50개\n",
        "    - 마나 포션: 700 골드, 50개\n",
        "    - 행운의 물약: 850 골드, 50개\n",
        "    - 투명 포션: 1990 골드, 50개\n",
        "- 판매 중인 포션 리스트를 전부 출력해봐요"
      ],
      "metadata": {
        "id": "sur1AcQdFzSG"
      }
    },
    {
      "cell_type": "code",
      "execution_count": null,
      "metadata": {
        "id": "M53JoV7CDin_",
        "colab": {
          "base_uri": "https://localhost:8080/"
        },
        "outputId": "4f7c77f4-bbff-461c-82d9-831ac273f877"
      },
      "outputs": [
        {
          "output_type": "stream",
          "name": "stdout",
          "text": [
            "[['체력 포션', 575, 50], ['마나 포션', 700, 50], ['행운의 물약', 850, 50], ['투명 포션', 1990, 50]]\n"
          ]
        }
      ],
      "source": [
        "portion_name = ['hp','mp','lk','tp']\n",
        "portion_price = [575,700,850,1990]\n",
        "portion_stock = [50,50,50,50]\n",
        "# 이차원 리스트로 묶어보기\n",
        "portion = [['체력 포션',575,50],['마나 포션',700,50],['행운의 물약',850,50],['투명 포션',1990,50]]\n",
        "\n",
        "print(portion)"
      ]
    },
    {
      "cell_type": "markdown",
      "source": [
        "### 2단계: 주문 목록 만들기 📝\n",
        "\n",
        "목록을 살펴본 손님은 체력 포션 12개, 마나 포션 5개, 행운의 물약 1개, 투명 포션 3개를 주문했어요. 종류가 늘어나니 손님의 주문도 기억하기 힘드네요. 이제 손님 주문도 리스트로 관리해봐요!\n",
        "\n",
        "- 포션 이름 목록을 하나씩 출력하면서 손님에게 몇 개씩 구매할 것인지 입력받아요\n",
        "- 대답을 주문 목록 리스트에 저장해요\n",
        "- 주문이 끝나면 총 결제 금액을 계산해서 출력해보세요"
      ],
      "metadata": {
        "id": "iYV6VAv1F12S"
      }
    },
    {
      "cell_type": "code",
      "source": [
        "# # customer_1 = input('체력 포션을 몇 개 살껀가요?', )\n",
        "# customer_1 = list(map(int, input().spilt())) # 실패\n",
        "\n",
        "# customer_1 = input('이름을 입력해주세요 : ', )\n",
        "# a, b, c, d = map(int, input('포션을 몇 개 살건가요? 체력, 마나, 행운, 투명 순서대로 띄어쓰기로 구분해주세요.', ).split())\n",
        "# customer\n",
        "\n",
        "customer_1 = []\n",
        "a = int(input('체력 포션을 몇 개 살껀가요? : '))\n",
        "b = int(input('마나 포션을 몇 개 살껀가요? : '))\n",
        "c = int(input('행운의 물약을 몇 개 살껀가요? : '))\n",
        "d = int(input('투명 포션을 몇 개 살껀가요? : '))\n",
        "customer_1.append(a)\n",
        "customer_1.extend([b, c, d])\n",
        "print('고객 1이 구매하려는 갯수는 체력 포션', customer_1[0],'개, 마나 포션', customer_1[1], '개, 행운의 물약 ', customer_1[2], '개, 투명 포션 ', customer_1[3], '개 입니다.')\n",
        "1\n",
        "total_price = [portion_price[i] * customer_1[i] for i in range(len(portion_price))]\n",
        "print('고객 1의 총 가격은', sum(total_price), '원 입니다')"
      ],
      "metadata": {
        "id": "msapPIcBF4R2",
        "colab": {
          "base_uri": "https://localhost:8080/"
        },
        "outputId": "9fe59b19-54d5-4aa7-85b8-2b405df8cd29"
      },
      "execution_count": null,
      "outputs": [
        {
          "output_type": "stream",
          "name": "stdout",
          "text": [
            "체력 포션을 몇 개 살껀가요? : 12\n",
            "마나 포션을 몇 개 살껀가요? : 5\n",
            "행운의 물약을 몇 개 살껀가요? : 1\n",
            "투명 포션을 몇 개 살껀가요? : 3\n",
            "고객 1이 구매하려는 갯수는 체력 포션 12 개, 마나 포션 5 개, 행운의 물약  1 개, 투명 포션  3 개 입니다.\n",
            "고객 1의 총 가격은 17220 원 입니다\n"
          ]
        }
      ]
    },
    {
      "cell_type": "code",
      "source": [
        "# 변형 실험\n",
        "a = int(input('체력 포션을 몇 개 살껀가요? : '))\n",
        "b = int(input('마나 포션을 몇 개 살껀가요? : '))\n",
        "c = int(input('행운의 물약을 몇 개 살껀가요? : '))\n",
        "d = int(input('투명 포션을 몇 개 살껀가요? : '))\n",
        "customer_2 = [a,b,c,d] # 이렇게 해도 되는구나 굳이 append로 하지 않고 추후에 정의를 해도 되는군\n",
        "print(customer_2)\n",
        "print('고객 1이 구매하려는 갯수는 체력 포션', customer_2[0],'개, 마나 포션', customer_2[1], '개, 행운의 물약 ', customer_2[2], '개, 투명 포션 ', customer_2[3], '개 입니다.')\n"
      ],
      "metadata": {
        "colab": {
          "base_uri": "https://localhost:8080/"
        },
        "id": "lWJN576_kOCV",
        "outputId": "98e5cda5-8b26-4fa0-ab9a-52bc5341e08b"
      },
      "execution_count": null,
      "outputs": [
        {
          "output_type": "stream",
          "name": "stdout",
          "text": [
            "체력 포션을 몇 개 살껀가요? : 12\n",
            "마나 포션을 몇 개 살껀가요? : 5\n",
            "행운의 물약을 몇 개 살껀가요? : 1\n",
            "투명 포션을 몇 개 살껀가요? : 3\n",
            "[12, 5, 1, 3]\n",
            "고객 1이 구매하려는 갯수는 체력 포션 12 개, 마나 포션 5 개, 행운의 물약  1 개, 투명 포션  3 개 입니다.\n"
          ]
        }
      ]
    },
    {
      "cell_type": "markdown",
      "source": [
        "### 3단계: 재고 관리하기 🗃️\n",
        "\n",
        "좋아요! 손님이 가격을 듣고 모두 구매하기로 했어요!  \n",
        "\n",
        "상점 주인이 주문한 물품을 모두 건네준 후, 당신의 임무는 판매한 만큼 재고를 업데이트하는 것이에요! 정확한 재고 관리는 성공적인 비즈니스의 핵심이니까요! ✅\n",
        "\n",
        "- 재고 리스트의 각 요소들을 주문 목록 리스트의 각 요소만큼 빼서 재고를 업데이트 해보세요\n",
        "- 재고 업데이트가 완료되면, 전체 포션 리스트를 전부 출력해서 재고가 잘 업데이트 되었는지 확인해보세요\n"
      ],
      "metadata": {
        "id": "58dVrxKlF5Nj"
      }
    },
    {
      "cell_type": "code",
      "source": [
        "portion_stock_2 = [portion_stock[i] - customer_1[i] for i in range(len(portion_stock))]\n",
        "print(portion_stock_2)\n"
      ],
      "metadata": {
        "id": "PboR6XP4F7Cq",
        "colab": {
          "base_uri": "https://localhost:8080/"
        },
        "outputId": "39ba93b3-24fd-40f4-99e3-c073fd95e435"
      },
      "execution_count": null,
      "outputs": [
        {
          "output_type": "stream",
          "name": "stdout",
          "text": [
            "[38, 45, 49, 47]\n"
          ]
        }
      ]
    },
    {
      "cell_type": "code",
      "source": [
        "portion_stock = portion_stock_2 # 업데이트\n",
        "print(portion_stock)"
      ],
      "metadata": {
        "colab": {
          "base_uri": "https://localhost:8080/"
        },
        "id": "BzOJZvWGj2DO",
        "outputId": "578ac379-ab34-4cf2-fe1a-1996ffd6a9d4"
      },
      "execution_count": null,
      "outputs": [
        {
          "output_type": "stream",
          "name": "stdout",
          "text": [
            "[38, 45, 49, 47]\n"
          ]
        }
      ]
    },
    {
      "cell_type": "markdown",
      "source": [
        "### 추가 과제 🌟\n",
        "\n",
        "음... 리스트가 점점 많아지니 관리하기 복잡하지 않나요?  \n",
        "포션 이름, 가격, 재고를 각각 따로 관리하는 대신, 하나의 리스트 안에 이 모든 정보를 담은 리스트를 넣어보는 건 어떨까요? (2차원 리스트로 정보 관리하기!)   \n",
        "이렇게 하면 데이터 관리가 훨씬 깔끔해질 거예요! 🧠💡"
      ],
      "metadata": {
        "id": "bgr68K_nF-9L"
      }
    },
    {
      "cell_type": "code",
      "source": [
        "# 이렇게 넣으면 어떻게 관리를 해야하는거지?\n",
        "portion = [['체력 포션',575,50],['마나 포션',700,50],['행운의 물약',850,50],['투명 포션',1990,50]]\n",
        "portion[0][1] # 이렇게 접근하는 거군요\n",
        "\n",
        "A = input('고객님의 이름을 알려주세요 ', )\n",
        "B = int(input('체력 포션을 몇 개 살껀가요? : '))\n",
        "C = int(input('마나 포션을 몇 개 살껀가요? : '))\n",
        "D = int(input('행운의 물약을 몇 개 살껀가요? : '))\n",
        "E = int(input('투명 포션을 몇 개 살껀가요? : '))\n",
        "customer_new = [A, B, C, D, E] # 고객 정보와 함께 입력해보기\n",
        "\n",
        "customer = []\n",
        "customer.append(customer_new) # 고객정보를 추가함\n",
        "\n",
        "print(customer[0][0], '고객님께서 구매하려는 갯수는 체력 포션', customer[0][1],'개, 마나 포션', customer[0][2], '개, 행운의 물약 ', customer[0][3], '개, 투명 포션 ', customer[0][4], '개 입니다.')\n",
        "\n",
        "total_price = [portion_price[i] * customer[0][i+1] for i in range(len(portion_price))]\n",
        "print(customer[0][0], '고객님께서 구매하시는 포션의 총 가격은', sum(total_price), '원 입니다')\n"
      ],
      "metadata": {
        "id": "3HvaxJtlF_1D",
        "colab": {
          "base_uri": "https://localhost:8080/"
        },
        "outputId": "93e943a7-032c-4721-b88c-7f5862cdaded"
      },
      "execution_count": null,
      "outputs": [
        {
          "output_type": "stream",
          "name": "stdout",
          "text": [
            "고객님의 이름을 알려주세요 김이박\n",
            "체력 포션을 몇 개 살껀가요? : 12\n",
            "마나 포션을 몇 개 살껀가요? : 5\n",
            "행운의 물약을 몇 개 살껀가요? : 1\n",
            "투명 포션을 몇 개 살껀가요? : 3\n",
            "김이박 고객님께서 구매하려는 갯수는 체력 포션 12 개, 마나 포션 5 개, 행운의 물약  1 개, 투명 포션  3 개 입니다.\n",
            "김이박 고객님께서 구매하시는 포션의 총 가격은 17220 원 입니다\n"
          ]
        }
      ]
    },
    {
      "cell_type": "code",
      "source": [
        "# 재고관리\n",
        "portion_stock_3 = [portion_stock[i] - customer[0][i+1] for i in range(len(portion_stock))]\n",
        "print(portion_stock_3)"
      ],
      "metadata": {
        "colab": {
          "base_uri": "https://localhost:8080/"
        },
        "id": "ZamaaN99knZ5",
        "outputId": "417a2da8-ab58-4786-e71a-17de0acf565e"
      },
      "execution_count": null,
      "outputs": [
        {
          "output_type": "stream",
          "name": "stdout",
          "text": [
            "[26, 40, 48, 44]\n"
          ]
        }
      ]
    },
    {
      "cell_type": "code",
      "source": [
        "# 영수증 만들기\n",
        "import datetime\n",
        "from pytz import timezone # 해당 지역의 시간을 가져오기\n",
        "\n",
        "print(datetime.datetime.today()) # 이건 UTC 시간\n",
        "datetime_today = datetime.datetime.now(timezone('Asia/Seoul')) # 한국 시간으로 설정\n",
        "time_wc = datetime_today.strftime('%Y-%m-%d: %H:%M:%S')\n",
        "print(time_wc)\n",
        "\n",
        "# 랜덤 출력\n",
        "import random\n",
        "fortune_today = ['백수는 모두의 천직', '오늘도 수고많아요', '어서 퇴근합시다', '모두모임 재밌다',\n",
        "          '파이썬 고수가 됩시다', '퇴근길 조심하세요', '집가는 길 복권사세요', '앞으로 뭐해먹고 살지',\n",
        "          '저녁메뉴는 제육볶음', '다음 포션은 디카페인으로 드세요', '포션만 먹고 살다 일찍 죽는다~']\n",
        "print(random.choice(fortune_today))\n"
      ],
      "metadata": {
        "colab": {
          "base_uri": "https://localhost:8080/"
        },
        "id": "TPxLABLRmtlq",
        "outputId": "622734e6-b992-4134-ceb4-162901f5fac1"
      },
      "execution_count": null,
      "outputs": [
        {
          "output_type": "stream",
          "name": "stdout",
          "text": [
            "2025-04-17 08:10:16.361307\n",
            "2025-04-17: 17:10:16\n",
            "저녁메뉴는 제육볶음\n"
          ]
        }
      ]
    },
    {
      "cell_type": "code",
      "source": [
        "\n",
        "total_hp = f'체력 포션 {portion_price[0]} 골드, 구매 갯수 {customer[0][1]}개 : {portion_price[0]*customer[0][1]} 골드'\n",
        "total_mp = f'마나 포션 {portion_price[1]} 골드, 구매 갯수 {customer[0][2]}개 : {portion_price[1]*customer[0][2]} 골드'\n",
        "total_lk = f'행운의 물약 {portion_price[2]} 골드, 구매 갯수 {customer[0][3]}개 : {portion_price[2]*customer[0][3]} 골드'\n",
        "total_tp = f'투명 포션 {portion_price[3]} 골드, 구매 갯수 {customer[0][4]}개 : {portion_price[3]*customer[0][4]} 골드'\n",
        "\n",
        "money_total = f'총 결제 금액 {sum(total_price)} 골드'\n",
        "time_wc_2 = f'결제 시간 : {time_wc}'\n",
        "fortune = f'오늘의 운세 : {random.choice(fortune_today)}'\n",
        "name = f'고객님 성함: {customer[0][0]}'\n",
        "\n",
        "\n",
        "print('                      영수증')\n",
        "print('='*50)\n",
        "print()\n",
        "print(name)\n",
        "print(time_wc_2)\n",
        "print('-'*50)\n",
        "print(total_hp)\n",
        "print(total_mp)\n",
        "print(total_lk)\n",
        "print(total_tp)\n",
        "print('-'*50)\n",
        "print(money_total)\n",
        "print('-'*50)\n",
        "print(fortune)\n",
        "print('='*50)\n",
        "\n",
        "print('''\n",
        "\n",
        "                      캡틴짱''')\n"
      ],
      "metadata": {
        "colab": {
          "base_uri": "https://localhost:8080/"
        },
        "id": "3I3f0gYtndWC",
        "outputId": "7021837e-e17a-4de0-8811-3c58c082e26d"
      },
      "execution_count": null,
      "outputs": [
        {
          "output_type": "stream",
          "name": "stdout",
          "text": [
            "                      영수증\n",
            "==================================================\n",
            "\n",
            "고객님 성함: 김이박\n",
            "결제 시간 : 2025-04-17: 17:10:16\n",
            "--------------------------------------------------\n",
            "체력 포션 575 골드, 구매 갯수 12개 : 6900 골드\n",
            "마나 포션 700 골드, 구매 갯수 5개 : 3500 골드\n",
            "행운의 물약 850 골드, 구매 갯수 1개 : 850 골드\n",
            "투명 포션 1990 골드, 구매 갯수 3개 : 5970 골드\n",
            "--------------------------------------------------\n",
            "총 결제 금액 17220 골드\n",
            "--------------------------------------------------\n",
            "오늘의 운세 : 어서 퇴근합시다\n",
            "==================================================\n",
            "\n",
            "\n",
            "                      캡틴짱\n"
          ]
        }
      ]
    }
  ]
}