{
  "nbformat": 4,
  "nbformat_minor": 0,
  "metadata": {
    "colab": {
      "provenance": [],
      "include_colab_link": true
    },
    "kernelspec": {
      "name": "python3",
      "display_name": "Python 3"
    },
    "language_info": {
      "name": "python"
    }
  },
  "cells": [
    {
      "cell_type": "markdown",
      "metadata": {
        "id": "view-in-github",
        "colab_type": "text"
      },
      "source": [
        "<a href=\"https://colab.research.google.com/github/chanxxw/AIFFEL_quest_cr/blob/master/Python/My_First_Python/my_first_python_project_3.ipynb\" target=\"_parent\"><img src=\"https://colab.research.google.com/assets/colab-badge.svg\" alt=\"Open In Colab\"/></a>"
      ]
    },
    {
      "cell_type": "markdown",
      "source": [
        "# 3일차 프로젝트: 🏆 포션 상점의 마스터, 드디어 내 가게를 갖다! 🏪✨\n",
        "\n",
        "이세계에서 당신의 파이썬 마법으로 포션 상점은 대성공했어요! 🚀 재고 관리 시스템까지 개발하며 상점 주인의 든든한 오른팔이 된 당신! 이제는 드디어 분점의 주인으로 승진했답니다! 👑\n",
        "\n",
        "자기 가게를 갖게 된 당신의 머릿속에 더 큰 꿈이 피어났어요. \"잠깐, 이걸 전부 자동화할 수 있지 않을까? 파이썬이 가게를 돌리고, 난 커피 한 잔 마시면서 골드가 쌓이는 걸 구경만 하는 거지!\" 이런 달콤한 생각과 함께 새로운 프로젝트가 시작됐어요! 💻💭"
      ],
      "metadata": {
        "id": "rfy19E49GPw3"
      }
    },
    {
      "cell_type": "markdown",
      "source": [
        "### 1단계: 메뉴판 만들기 📜\n",
        "자동화의 첫걸음은 손님들이 쉽게 선택할 수 있는 멋진 메뉴판을 만드는 거예요! 손님들이 메뉴판의 번호를 보고 쉽게 주문할 수 있을 거에요.\n",
        "- 포션 이름, 가격 정보를 딕셔너리나 리스트로 준비해요\n",
        "- 메뉴판에는 번호, 포션 이름, 가격을 깔끔하게 정렬해서 보여줘요"
      ],
      "metadata": {
        "id": "sakB5bdSkuaO"
      }
    },
    {
      "cell_type": "code",
      "source": [
        "portion = [['체력 포션', 1, 1000], ['마나 포션', 2, 2000], ['행운 포션', 3, 3000], ['투명 포션', 4, 4000]]"
      ],
      "metadata": {
        "id": "LZYk3fPEoEvM"
      },
      "execution_count": 51,
      "outputs": []
    },
    {
      "cell_type": "code",
      "source": [
        "print('='*50)\n",
        "print('-'*18, 'Portion Menu', '-'*18)\n",
        "print('='*7, '형철 캡틴의 포션 상점에 오신 것을 환영합니다.', '='*7)\n",
        "print('-'*50)\n",
        "print('-'*7, str(portion[0][1])+'.', str(portion[0][0])+' :      ', str(portion[0][2]), ' 골드      ', '-'*7)\n",
        "print('-'*50)\n",
        "print('-'*7, str(portion[1][1])+'.', str(portion[1][0])+' :      ', str(portion[1][2]), ' 골드      ', '-'*7)\n",
        "print('-'*50)\n",
        "print('-'*7, str(portion[2][1])+'.', str(portion[2][0])+' :      ', str(portion[2][2]), ' 골드      ', '-'*7)\n",
        "print('-'*50)\n",
        "print('-'*7, str(portion[3][1])+'.', str(portion[3][0])+' :      ', str(portion[3][2]), ' 골드      ', '-'*7)\n",
        "print('-'*50)\n",
        "print('='*50)"
      ],
      "metadata": {
        "id": "vCn8GEhVoEhC",
        "colab": {
          "base_uri": "https://localhost:8080/"
        },
        "outputId": "1397cc07-fe89-4456-adfa-32027f452387"
      },
      "execution_count": 52,
      "outputs": [
        {
          "output_type": "stream",
          "name": "stdout",
          "text": [
            "==================================================\n",
            "------------------ Portion Menu ------------------\n",
            "======= 형철 캡틴의 포션 상점에 오신 것을 환영합니다. =======\n",
            "--------------------------------------------------\n",
            "------- 1. 체력 포션 :       1000  골드       -------\n",
            "--------------------------------------------------\n",
            "------- 2. 마나 포션 :       2000  골드       -------\n",
            "--------------------------------------------------\n",
            "------- 3. 행운 포션 :       3000  골드       -------\n",
            "--------------------------------------------------\n",
            "------- 4. 투명 포션 :       4000  골드       -------\n",
            "--------------------------------------------------\n",
            "==================================================\n"
          ]
        }
      ]
    },
    {
      "cell_type": "code",
      "source": [
        "# for 문으로 만들어보자\n",
        "print('        Portion Menu')\n",
        "print('='*29)\n",
        "print('내생애 첫 파이썬 포션 상점입니다')\n",
        "for i in range(len(portion)):\n",
        "  print(f'| {str(portion[i][1])}. {str(portion[i][0])}:      {str(portion[i][2])} 골드 |')\n",
        "  print('-'*29)\n",
        "print('='*29)\n"
      ],
      "metadata": {
        "colab": {
          "base_uri": "https://localhost:8080/"
        },
        "id": "JiStE3MHkXKc",
        "outputId": "9f98e5d2-12eb-4c48-92c5-d161125298c3"
      },
      "execution_count": 99,
      "outputs": [
        {
          "output_type": "stream",
          "name": "stdout",
          "text": [
            "        Portion Menu\n",
            "=============================\n",
            "내생애 첫 파이썬 포션 상점입니다\n",
            "| 1. 체력 포션:      1000 골드 |\n",
            "-----------------------------\n",
            "| 2. 마나 포션:      2000 골드 |\n",
            "-----------------------------\n",
            "| 3. 행운 포션:      3000 골드 |\n",
            "-----------------------------\n",
            "| 4. 투명 포션:      4000 골드 |\n",
            "-----------------------------\n",
            "=============================\n"
          ]
        }
      ]
    },
    {
      "cell_type": "markdown",
      "source": [
        "### 2단계: 주문 시스템 구축하기 🛒\n",
        "\n",
        "메뉴판이 준비되었다면, 손님의 주문을 받아볼 차례예요! 손님이 메뉴 번호와 개수를 입력하면 주문 리스트에 담기고, 주문이 끝나면 총 결제 금액을 계산해주는 마법 같은 시스템을 만들어볼까요?\n",
        "\n",
        "- 손님의 주문을 저장할 리스트를 준비해요. 주문 포션 리스트와 주문 개수 리스트가 필요하겠죠!\n",
        "- 총 결제 금액을 저장할 변수도 만들어요\n",
        "- 손님에게 주문할 메뉴 번호를 물어보고 해당하는 포션을 주문 포션 리스트에 추가해요\n",
        "- 몇 개나 필요한지도 물어보고 주문 개수 리스트에 추가해요\n",
        "- 주문한 포션의 가격을 찾아서 변수에 저장해요\n",
        "- 총 결제 금액에 모든 포션 가격을 더해서 저장해요\n",
        "- 주문 정보가 리스트에 잘 들어갔는지 출력해서 확인해봐요 😊 총 결제 금액도 계산해서 출력해요"
      ],
      "metadata": {
        "id": "kmx4bV77GQ67"
      }
    },
    {
      "cell_type": "code",
      "source": [
        "list_count = [0,0,0,0] # 빈 리스트 생성\n",
        "total_price = [] # 빈 리스트 생성\n",
        "c = 0 # 초기화\n",
        "\n",
        "while c != 2:\n",
        "  a = int(input('구매를 원하는 포션 번호를 입력해주세요'))\n",
        "  b = int(input(f'{portion[a-1][0]}을 몇 개 구입하실 건가요?'))\n",
        "  list_count[a-1] = b\n",
        "  c = int(input('추가로 구매를 원하시면 1, 아니면 2를 눌러주세요'))\n",
        "print(list_count)\n",
        "total_price = [list_count[i]*portion[i][2] for i in range(4)]\n",
        "print(str(portion[0][0]), list_count[0],'개', str(portion[1][0]), list_count[1],'개', str(portion[2][0]), list_count[2],'개', str(portion[3][0]), list_count[3],'개를 구입합니다.')\n",
        "print('총 가격은', sum(total_price), '골드 입니다.')\n",
        "c = 0 # 초기화\n"
      ],
      "metadata": {
        "id": "R6VC-ue18La4",
        "colab": {
          "base_uri": "https://localhost:8080/"
        },
        "outputId": "d7557214-66e5-491d-8c57-9fbe4ec16825"
      },
      "execution_count": 125,
      "outputs": [
        {
          "output_type": "stream",
          "name": "stdout",
          "text": [
            "구매를 원하는 포션 번호를 입력해주세요1\n",
            "체력 포션을 몇 개 구입하실 건가요?1\n",
            "추가로 구매를 원하시면 1, 아니면 2를 눌러주세요1\n",
            "구매를 원하는 포션 번호를 입력해주세요2\n",
            "마나 포션을 몇 개 구입하실 건가요?2\n",
            "추가로 구매를 원하시면 1, 아니면 2를 눌러주세요1\n",
            "구매를 원하는 포션 번호를 입력해주세요3\n",
            "행운 포션을 몇 개 구입하실 건가요?3\n",
            "추가로 구매를 원하시면 1, 아니면 2를 눌러주세요1\n",
            "구매를 원하는 포션 번호를 입력해주세요4\n",
            "투명 포션을 몇 개 구입하실 건가요?4\n",
            "추가로 구매를 원하시면 1, 아니면 2를 눌러주세요2\n",
            "[1, 2, 3, 4]\n",
            "체력 포션 1 개 마나 포션 2 개 행운 포션 3 개 투명 포션 4 개를 구입합니다.\n",
            "총 가격은 30000 골드 입니다.\n"
          ]
        }
      ]
    },
    {
      "cell_type": "code",
      "source": [
        "list_count = [0,0,0,0] # 빈 리스트 생성\n",
        "total_price = [] # 빈 리스트 생성\n",
        "exit_flag = False # 초기화\n",
        "c = 0 # 초기화\n",
        "\n",
        "while True:\n",
        "  a = int(input('구매를 원하는 포션 번호를 입력해주세요'))\n",
        "  if a<=0 or a>4:\n",
        "    print('1과 4 사이의 숫자만 입력해주세요')\n",
        "    continue\n",
        "  b = int(input(f'{portion[a-1][0]}을 몇 개 구입하실 건가요?'))\n",
        "  list_count[a-1] = b\n",
        "  while True:\n",
        "      c = int(input('추가로 구매를 원하시면 1, 아니면 2를 눌러주세요: '))\n",
        "      if c == 1:\n",
        "          break  # 바깥 while 계속\n",
        "      elif c == 2:\n",
        "          exit_flag = True  # 종료 신호 설정\n",
        "          break\n",
        "      else:\n",
        "          print('잘못 입력하셨습니다. 1 또는 2를 입력해주세요.')\n",
        "\n",
        "  if 'exit_flag' in locals() and exit_flag:\n",
        "      break  # 바깥 while 종료\n",
        "\n",
        "print(list_count)\n",
        "total_price = [list_count[i]*portion[i][2] for i in range(4)]\n",
        "print(str(portion[0][0]), list_count[0],'개', str(portion[1][0]), list_count[1],'개', str(portion[2][0]), list_count[2],'개', str(portion[3][0]), list_count[3],'개를 구입합니다.')\n",
        "print('총 가격은', sum(total_price), '골드 입니다.')\n",
        "\n"
      ],
      "metadata": {
        "colab": {
          "base_uri": "https://localhost:8080/"
        },
        "id": "JR1-oaAfqF_o",
        "outputId": "ec512ba4-e2b4-45e0-8de9-5b3b762643c7"
      },
      "execution_count": 126,
      "outputs": [
        {
          "output_type": "stream",
          "name": "stdout",
          "text": [
            "구매를 원하는 포션 번호를 입력해주세요1\n",
            "체력 포션을 몇 개 구입하실 건가요?1\n",
            "추가로 구매를 원하시면 1, 아니면 2를 눌러주세요: 1\n",
            "구매를 원하는 포션 번호를 입력해주세요2\n",
            "마나 포션을 몇 개 구입하실 건가요?2\n",
            "추가로 구매를 원하시면 1, 아니면 2를 눌러주세요: 1\n",
            "구매를 원하는 포션 번호를 입력해주세요3\n",
            "행운 포션을 몇 개 구입하실 건가요?3\n",
            "추가로 구매를 원하시면 1, 아니면 2를 눌러주세요: 1\n",
            "구매를 원하는 포션 번호를 입력해주세요4\n",
            "투명 포션을 몇 개 구입하실 건가요?4\n",
            "추가로 구매를 원하시면 1, 아니면 2를 눌러주세요: 4\n",
            "잘못 입력하셨습니다. 1 또는 2를 입력해주세요.\n",
            "추가로 구매를 원하시면 1, 아니면 2를 눌러주세요: 2\n",
            "[1, 2, 3, 4]\n",
            "체력 포션 1 개 마나 포션 2 개 행운 포션 3 개 투명 포션 4 개를 구입합니다.\n",
            "총 가격은 30000 골드 입니다.\n"
          ]
        }
      ]
    },
    {
      "cell_type": "markdown",
      "source": [
        "### 3단계: 주문이 끝날 때 까지 반복하기\n",
        "한 손님이 여러 종류의 포션을 구매할 수도 있겠죠! 손님이 주문 끝을 알릴 때까지 계속해서 주문을 받아봐요!\n",
        "\n",
        "- 손님이 새로 들어오면 주문리스트와 총 결제 금액을 초기화해요\n",
        "- 손님이 메뉴 번호 대신 '0'을 입력할 때까지 주문 포션 리스트와 주문 개수 리스트를 계속 업데이트해요\n",
        "- 주문이 끝나면 주문 리스트를 토대로 총 결제 금액을 계산해요\n",
        "- 계산이 끝나면 구매한 목록이 전부 포함된 멋진 영수증을 출력해요!"
      ],
      "metadata": {
        "id": "hh2llvvNAeBq"
      }
    },
    {
      "cell_type": "code",
      "source": [
        "list_count = [0,0,0,0] # 초기화\n",
        "total_price = [] # 초기화\n",
        "exit_flag = False # 초기화\n",
        "c = 10 # 초기화\n",
        "\n",
        "while True:\n",
        "  a = int(input('구매를 원하는 포션 번호(1~4)를 입력해주세요, 0을 누르면 주문이 종료됩니다.'))\n",
        "  if a<0 or a>4:\n",
        "    print('1과 4 사이의 숫자만 입력해주세요')\n",
        "    continue\n",
        "  elif a == 0:\n",
        "    break\n",
        "  b = int(input(f'{portion[a-1][0]}을 몇 개 구입하실 건가요?'))\n",
        "  list_count[a-1] = b\n",
        "\n",
        "print(list_count)\n",
        "total_price = [list_count[i]*portion[i][2] for i in range(4)]\n",
        "print(str(portion[0][0]), list_count[0],'개', str(portion[1][0]), list_count[1],'개', str(portion[2][0]), list_count[2],'개', str(portion[3][0]), list_count[3],'개를 구입합니다.')\n",
        "print('총 가격은', sum(total_price), '골드 입니다.')\n",
        "\n",
        "\n",
        "# 영수증 출력\n",
        "print(\"\\n\"*3) # 가독성 위해서 임시로 기입\n",
        "print('        모두모임 포션 상점 영수증')\n",
        "print('='*40)\n",
        "print('내생애 첫 파이썬 포션 상점입니다')\n",
        "print('-'*40)\n",
        "for i in range(len(portion)):\n",
        "  print(f'{str(portion[i][1])}. {str(portion[i][0])}:  {str(portion[i][2])} 골드, {list_count[i]}개 구입, {total_price[i]} 골드')\n",
        "  print('-'*40)\n",
        "print('5. 총 가격 :', sum(total_price), '골드')\n",
        "print('='*40)\n"
      ],
      "metadata": {
        "id": "5oHWhoNMthej",
        "colab": {
          "base_uri": "https://localhost:8080/"
        },
        "outputId": "606876f9-7c07-44b6-a67c-958b01f72afd"
      },
      "execution_count": 149,
      "outputs": [
        {
          "output_type": "stream",
          "name": "stdout",
          "text": [
            "구매를 원하는 포션 번호(1~4)를 입력해주세요, 0을 누르면 주문이 종료됩니다.1\n",
            "체력 포션을 몇 개 구입하실 건가요?4\n",
            "구매를 원하는 포션 번호(1~4)를 입력해주세요, 0을 누르면 주문이 종료됩니다.2\n",
            "마나 포션을 몇 개 구입하실 건가요?3\n",
            "구매를 원하는 포션 번호(1~4)를 입력해주세요, 0을 누르면 주문이 종료됩니다.3\n",
            "행운 포션을 몇 개 구입하실 건가요?2\n",
            "구매를 원하는 포션 번호(1~4)를 입력해주세요, 0을 누르면 주문이 종료됩니다.4\n",
            "투명 포션을 몇 개 구입하실 건가요?1\n",
            "구매를 원하는 포션 번호(1~4)를 입력해주세요, 0을 누르면 주문이 종료됩니다.5\n",
            "1과 4 사이의 숫자만 입력해주세요\n",
            "구매를 원하는 포션 번호(1~4)를 입력해주세요, 0을 누르면 주문이 종료됩니다.0\n",
            "[4, 3, 2, 1]\n",
            "체력 포션 4 개 마나 포션 3 개 행운 포션 2 개 투명 포션 1 개를 구입합니다.\n",
            "총 가격은 20000 골드 입니다.\n",
            "\n",
            "\n",
            "\n",
            "\n",
            "        모두모임 포션 상점 영수증\n",
            "========================================\n",
            "내생애 첫 파이썬 포션 상점입니다\n",
            "----------------------------------------\n",
            "1. 체력 포션:  1000 골드, 4개 구입, 4000 골드\n",
            "----------------------------------------\n",
            "2. 마나 포션:  2000 골드, 3개 구입, 6000 골드\n",
            "----------------------------------------\n",
            "3. 행운 포션:  3000 골드, 2개 구입, 6000 골드\n",
            "----------------------------------------\n",
            "4. 투명 포션:  4000 골드, 1개 구입, 4000 골드\n",
            "----------------------------------------\n",
            "5. 총 가격 : 20000 골드\n",
            "========================================\n"
          ]
        }
      ]
    },
    {
      "cell_type": "markdown",
      "source": [
        "### 4단계: 할인 이벤트 추가하기 💝\n",
        "\n",
        "시스템이 자동으로 돌아가기 시작했어요! 이제 더 많은 손님을 유치하기 위한 할인 이벤트를 준비했답니다!\n",
        "\n",
        "- 1만 골드 이상 구매 시 10% 할인 혜택을 적용해요\n",
        "- \"축하합니다! 1만 골드 이상 구매로 10% 할인이 적용되었습니다!\" 메시지도 함께 출력해요\n",
        "- 할인된 최종 결제 금액은 깔끔하게 정수로 보여줘요"
      ],
      "metadata": {
        "id": "z1UWHWJzGUJD"
      }
    },
    {
      "cell_type": "code",
      "source": [
        "import math # 내림 함수 적용\n",
        "event_momo = sum(total_price)\n",
        "# event_momo = 108880.99 # 확인 위해서 추가해봄\n",
        "if event_momo >= 10000:\n",
        "  event_momo = math.floor(event_momo*0.9) # 내림으로 적용\n",
        "  print(\"축하합니다! 1만 골드 이상 구매로 10% 할인이 적용되었습니다!\")\n",
        "print('할인 이벤트 가격 :', event_momo, '골드')\n"
      ],
      "metadata": {
        "id": "JckMX7d2xYJ_",
        "colab": {
          "base_uri": "https://localhost:8080/"
        },
        "outputId": "892b0307-8dd1-4ecc-99ad-be7ca50e6ff6"
      },
      "execution_count": 146,
      "outputs": [
        {
          "output_type": "stream",
          "name": "stdout",
          "text": [
            "축하합니다! 1만 골드 이상 구매로 10% 할인이 적용되었습니다!\n",
            "할인 이벤트 가격 : 90000 골드\n"
          ]
        }
      ]
    },
    {
      "cell_type": "markdown",
      "source": [
        "### 5단계: 예외 처리하기 🔧\n",
        "\n",
        "\"드디어 완성이다! 이제 나는 부자가 될 거야!\" 하고 기뻐했는데... 갑자기 에러 발생! 😱\n",
        "한 손님이 판매하지 않는 포션을 달라고 하자 시스템이 멈춰버렸어요! 이런 상황을 방지하기 위한 예외 처리가 필요하겠네요.\n",
        "\n",
        "- 없는 포션 번호를 입력하면 \"없는 번호입니다. 다시 선택해주세요\" 메시지와 함께 다시 물어봐요"
      ],
      "metadata": {
        "id": "RiKFustRGTPv"
      }
    },
    {
      "cell_type": "code",
      "source": [
        "# 위에 적용함"
      ],
      "metadata": {
        "id": "sIUBYWp_GTmo"
      },
      "execution_count": null,
      "outputs": []
    },
    {
      "cell_type": "markdown",
      "source": [
        "### 추가과제\n",
        "\n",
        "재고관리 시스템도 자동화해봐요! 포션 재고 리스트를 만들고 주문에 맞춰 재고를 업데이트하는 기능을 추가해봐요. 만약 재고보다 많은 양을 주문하면 \"현재 체력 포션은 5개만 남았습니다. 다시 입력해주세요\" 같은 친절한 안내와 함께 재입력을 유도하는 기능도 넣어봐요!\n"
      ],
      "metadata": {
        "id": "1ukECdhjGWDw"
      }
    },
    {
      "cell_type": "code",
      "source": [
        "portion_stock = [50,50,50,50] # 50개씩 임의로 설정"
      ],
      "metadata": {
        "id": "HIrjKSzH0tIF"
      },
      "execution_count": 152,
      "outputs": []
    },
    {
      "cell_type": "code",
      "source": [
        "portion_stock = [portion_stock[i] - list_count[i] for i in range(len(list_count))] # 재고 업데이트"
      ],
      "metadata": {
        "id": "_J0GIyv6y4Os",
        "colab": {
          "base_uri": "https://localhost:8080/"
        },
        "outputId": "47f3fa8e-43d6-463d-839f-42147cecada8"
      },
      "execution_count": 155,
      "outputs": [
        {
          "output_type": "execute_result",
          "data": {
            "text/plain": [
              "[46, 47, 48, 49]"
            ]
          },
          "metadata": {},
          "execution_count": 155
        }
      ]
    },
    {
      "cell_type": "code",
      "source": [
        "list_count = [0,0,0,0] # 초기화\n",
        "total_price = [] # 초기화\n",
        "exit_flag = False # 초기화\n",
        "c = 10 # 초기화\n",
        "\n",
        "while True:\n",
        "  a = int(input('구매를 원하는 포션 번호(1~4)를 입력해주세요, 0을 누르면 주문이 종료됩니다.'))\n",
        "  if a<0 or a>4:\n",
        "    print('1과 4 사이의 숫자만 입력해주세요')\n",
        "    continue\n",
        "  elif a == 0:\n",
        "    break\n",
        "  b = int(input(f'{portion[a-1][0]}을 몇 개 구입하실 건가요?'))\n",
        "  if portion_stock[a-1] - b < 0:\n",
        "    print(f'현재 {portion[a-1][0]}은 {portion_stock[a-1]}개만 남았습니다. 다시 입력해주세요')\n",
        "    continue\n",
        "  list_count[a-1] = b\n",
        "\n",
        "print(list_count)\n",
        "total_price = [list_count[i]*portion[i][2] for i in range(4)]\n",
        "print(str(portion[0][0]), list_count[0],'개', str(portion[1][0]), list_count[1],'개', str(portion[2][0]), list_count[2],'개', str(portion[3][0]), list_count[3],'개를 구입합니다.')\n",
        "print('총 가격은', sum(total_price), '골드 입니다.')\n",
        "\n",
        "import math # 내림 함수 적용\n",
        "event_momo = sum(total_price)\n",
        "# event_momo = 108880.99 # 확인 위해서 추가해봄\n",
        "if event_momo >= 10000:\n",
        "  event_momo = math.floor(event_momo*0.9) # 내림으로 적용\n",
        "  print(\"축하합니다! 1만 골드 이상 구매로 10% 할인이 적용되었습니다!\")\n",
        "  print('할인 이벤트 가격 :', event_momo, '골드')\n",
        "\n",
        "\n",
        "# 영수증 출력\n",
        "print(\"\\n\"*3) # 가독성 위해서 임시로 기입\n",
        "print('        모두모임 포션 상점 영수증')\n",
        "print('='*40)\n",
        "print('내생애 첫 파이썬 포션 상점입니다')\n",
        "print('-'*40)\n",
        "for i in range(len(portion)):\n",
        "  print(f'{str(portion[i][1])}. {str(portion[i][0])}:  {str(portion[i][2])} 골드, {list_count[i]}개 구입, {total_price[i]} 골드')\n",
        "  print('-'*40)\n",
        "print('5. 총 가격 :', sum(total_price), '골드')\n",
        "if event_momo >= 10000:\n",
        "  event_momo = math.floor(event_momo*0.9) # 내림으로 적용\n",
        "  print('-'*40)\n",
        "  print(\"축하합니다! 1만 골드 이상 구매로 10% 할인이 적용되었습니다!\")\n",
        "  print('6. 할인 이벤트 가격 :', event_momo, '골드')\n",
        "print('='*40)\n"
      ],
      "metadata": {
        "id": "rEhS8wy20SAA",
        "colab": {
          "base_uri": "https://localhost:8080/"
        },
        "outputId": "8d292f50-930a-47cc-8839-fe58a5770909"
      },
      "execution_count": 166,
      "outputs": [
        {
          "output_type": "stream",
          "name": "stdout",
          "text": [
            "구매를 원하는 포션 번호(1~4)를 입력해주세요, 0을 누르면 주문이 종료됩니다.1\n",
            "체력 포션을 몇 개 구입하실 건가요?100\n",
            "현재 체력 포션은 50개만 남았습니다. 다시 입력해주세요\n",
            "구매를 원하는 포션 번호(1~4)를 입력해주세요, 0을 누르면 주문이 종료됩니다.1\n",
            "체력 포션을 몇 개 구입하실 건가요?50\n",
            "구매를 원하는 포션 번호(1~4)를 입력해주세요, 0을 누르면 주문이 종료됩니다.2\n",
            "마나 포션을 몇 개 구입하실 건가요?3\n",
            "구매를 원하는 포션 번호(1~4)를 입력해주세요, 0을 누르면 주문이 종료됩니다.3\n",
            "행운 포션을 몇 개 구입하실 건가요?4\n",
            "구매를 원하는 포션 번호(1~4)를 입력해주세요, 0을 누르면 주문이 종료됩니다.5\n",
            "1과 4 사이의 숫자만 입력해주세요\n",
            "구매를 원하는 포션 번호(1~4)를 입력해주세요, 0을 누르면 주문이 종료됩니다.4\n",
            "투명 포션을 몇 개 구입하실 건가요?30\n",
            "구매를 원하는 포션 번호(1~4)를 입력해주세요, 0을 누르면 주문이 종료됩니다.0\n",
            "[50, 3, 4, 30]\n",
            "체력 포션 50 개 마나 포션 3 개 행운 포션 4 개 투명 포션 30 개를 구입합니다.\n",
            "총 가격은 188000 골드 입니다.\n",
            "축하합니다! 1만 골드 이상 구매로 10% 할인이 적용되었습니다!\n",
            "할인 이벤트 가격 : 169200 골드\n",
            "\n",
            "\n",
            "\n",
            "\n",
            "        모두모임 포션 상점 영수증\n",
            "========================================\n",
            "내생애 첫 파이썬 포션 상점입니다\n",
            "----------------------------------------\n",
            "1. 체력 포션:  1000 골드, 50개 구입, 50000 골드\n",
            "----------------------------------------\n",
            "2. 마나 포션:  2000 골드, 3개 구입, 6000 골드\n",
            "----------------------------------------\n",
            "3. 행운 포션:  3000 골드, 4개 구입, 12000 골드\n",
            "----------------------------------------\n",
            "4. 투명 포션:  4000 골드, 30개 구입, 120000 골드\n",
            "----------------------------------------\n",
            "5. 총 가격 : 188000 골드\n",
            "----------------------------------------\n",
            "축하합니다! 1만 골드 이상 구매로 10% 할인이 적용되었습니다!\n",
            "6. 할인 이벤트 가격 : 152280 골드\n",
            "========================================\n"
          ]
        }
      ]
    }
  ]
}