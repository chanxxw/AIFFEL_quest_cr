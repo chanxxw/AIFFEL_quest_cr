{
  "nbformat": 4,
  "nbformat_minor": 0,
  "metadata": {
    "colab": {
      "provenance": [],
      "include_colab_link": true
    },
    "kernelspec": {
      "name": "python3",
      "display_name": "Python 3"
    },
    "language_info": {
      "name": "python"
    }
  },
  "cells": [
    {
      "cell_type": "markdown",
      "metadata": {
        "id": "view-in-github",
        "colab_type": "text"
      },
      "source": [
        "<a href=\"https://colab.research.google.com/github/chanxxw/AIFFEL_quest_cr/blob/master/Python/My_First_Python/my_first_python_1.ipynb\" target=\"_parent\"><img src=\"https://colab.research.google.com/assets/colab-badge.svg\" alt=\"Open In Colab\"/></a>"
      ]
    },
    {
      "cell_type": "markdown",
      "source": [
        "## 내생애 첫 파이썬\n",
        "### 한입에쏙파이썬 책을 바탕으로 하는 모두모임\n",
        "- https://modulabs.co.kr/community/momos/188/crews\n",
        "- 공부용 유튜브 링크 : https://youtu.be/UrwFkNRzzT4?si=hbMEw2JqM8bA8Xgr\n",
        "- 학습 기간 : 2025.04.15.~24.\n",
        "- 매주 화, 목 15:00~17:00\n",
        "\n",
        "### 본 ipynb는 #1~#19의 내용을 담고 있습니다."
      ],
      "metadata": {
        "id": "9hZfitym20GS"
      }
    },
    {
      "cell_type": "code",
      "execution_count": null,
      "metadata": {
        "colab": {
          "base_uri": "https://localhost:8080/"
        },
        "id": "BwgrjyiMeelF",
        "outputId": "e5d32c71-de56-4ae7-baaa-eac7341d7e1b"
      },
      "outputs": [
        {
          "output_type": "stream",
          "name": "stdout",
          "text": [
            "Hello world!\n"
          ]
        }
      ],
      "source": [
        "# 코드 1-1\n",
        "print(\"Hello world!\")\n",
        "# Print와 같이 대문자로 시작하면 출력이 안됨\n",
        "# 코딩을 하다보면 중간에 잘 출력되는지 확인하기 위해 print를 많이 사용하게 됨"
      ]
    },
    {
      "cell_type": "code",
      "source": [
        "# 코드 1-3\n",
        "print('토끼야 안녕!')"
      ],
      "metadata": {
        "colab": {
          "base_uri": "https://localhost:8080/"
        },
        "id": "8e22MJ-NfHen",
        "outputId": "4b678a19-4c37-4ee7-fdb8-a3db271faaac"
      },
      "execution_count": null,
      "outputs": [
        {
          "output_type": "stream",
          "name": "stdout",
          "text": [
            "토끼야 안녕!\n"
          ]
        }
      ]
    },
    {
      "cell_type": "code",
      "source": [
        "# 코드 2-1\n",
        "print(1)\n",
        "print(-2)\n",
        "print(3.14)\n",
        "print(type(1))\n",
        "print(type(-2))\n",
        "print(type(3.14))"
      ],
      "metadata": {
        "colab": {
          "base_uri": "https://localhost:8080/"
        },
        "id": "tXiWugBg3y1u",
        "outputId": "02d7213b-8220-4a8f-a9e4-0fd8dda71684"
      },
      "execution_count": null,
      "outputs": [
        {
          "output_type": "stream",
          "name": "stdout",
          "text": [
            "1\n",
            "-2\n",
            "3.14\n",
            "<class 'int'>\n",
            "<class 'int'>\n",
            "<class 'float'>\n"
          ]
        }
      ]
    },
    {
      "cell_type": "code",
      "source": [
        "# 코드 2-2 사칙연산\n",
        "print(1+2)\n",
        "print(3-2)\n",
        "print(2*4)\n",
        "print(6/3)"
      ],
      "metadata": {
        "colab": {
          "base_uri": "https://localhost:8080/"
        },
        "id": "Je7QwPza36Sk",
        "outputId": "35c4d9e8-b2cc-40b8-a04a-45c3892adeb2"
      },
      "execution_count": null,
      "outputs": [
        {
          "output_type": "stream",
          "name": "stdout",
          "text": [
            "3\n",
            "1\n",
            "8\n",
            "2.0\n"
          ]
        }
      ]
    },
    {
      "cell_type": "code",
      "source": [
        "# 코드 2-3 제곱(**), 몫(//), 나머지(%)\n",
        "print(5**2) # 5*5 = 25\n",
        "print(5//2)\n",
        "print(5%2)"
      ],
      "metadata": {
        "colab": {
          "base_uri": "https://localhost:8080/"
        },
        "id": "werpnQzQ4D5j",
        "outputId": "442f2847-89c3-4763-9319-92bff1bf3f96"
      },
      "execution_count": null,
      "outputs": [
        {
          "output_type": "stream",
          "name": "stdout",
          "text": [
            "25\n",
            "2\n",
            "1\n"
          ]
        }
      ]
    },
    {
      "cell_type": "code",
      "source": [
        "# 코드 2-4\n",
        "# 3과 7을 더해서 출력하기\n",
        "print(3+7)\n",
        "# 6과 3을 곱해서 출력하기\n",
        "print(6*3)\n",
        "# 4의 2제곱을 출력하기\n",
        "print(4**2)\n",
        "# 9를 5로 나눴을 때 나머지를 출력하기\n",
        "print(9%5)"
      ],
      "metadata": {
        "colab": {
          "base_uri": "https://localhost:8080/"
        },
        "id": "akG8MvJC4L2c",
        "outputId": "992a1684-b96d-4baf-801e-09e7edd0a742"
      },
      "execution_count": null,
      "outputs": [
        {
          "output_type": "stream",
          "name": "stdout",
          "text": [
            "10\n",
            "18\n",
            "16\n",
            "4\n"
          ]
        }
      ]
    },
    {
      "cell_type": "code",
      "source": [
        "# 코드 2-5 문자열 출력\n",
        "print(\"Hello World!\")\n",
        "print('3.14')\n",
        "print(type(3.14)) # 3.14로 출력하면 float로 인식\n",
        "print(type('3.14')) # '3.14'로 출력하면 문자로 인식\n",
        "print('토끼야 안녕!')\n",
        "print((\"토끼야 안녕!\")) # '', \"\" 같은 기능"
      ],
      "metadata": {
        "colab": {
          "base_uri": "https://localhost:8080/"
        },
        "id": "h5YPneXR4rj2",
        "outputId": "a98577d3-091d-4264-ebaa-3de5d69e15e1"
      },
      "execution_count": null,
      "outputs": [
        {
          "output_type": "stream",
          "name": "stdout",
          "text": [
            "Hello World!\n",
            "3.14\n",
            "<class 'float'>\n",
            "<class 'str'>\n",
            "토끼야 안녕!\n",
            "토끼야 안녕!\n"
          ]
        }
      ]
    },
    {
      "cell_type": "code",
      "source": [
        "# 코드 2-6 문자열의 연산\n",
        "print('토끼야' + '안녕!')\n",
        "print('토끼야', '안녕!') # 쉼표로 구분하면 띄어쓰기가 붙음\n",
        "print(\"토끼야 \" + \"안녕!\") # +로 붙여주는데 띄어쓰기를 하려면 따옴표 안에 띄어쓰기를 붙여넣기\n",
        "# 코드 2-7 문자열 * 연산\n",
        "print('토끼' * 3) # 연산 시 정수로만 가능함"
      ],
      "metadata": {
        "colab": {
          "base_uri": "https://localhost:8080/"
        },
        "id": "z22rSdYm46c8",
        "outputId": "5b25ba34-7ef2-47c8-aaa5-9e0c98073225"
      },
      "execution_count": null,
      "outputs": [
        {
          "output_type": "stream",
          "name": "stdout",
          "text": [
            "토끼야안녕!\n",
            "토끼야 안녕!\n",
            "토끼야 안녕!\n",
            "토끼토끼토끼\n"
          ]
        }
      ]
    },
    {
      "cell_type": "code",
      "source": [
        "# 너무 긴 텍스트는 ''' 세번을 이용해서 보기 편하게 줄바뀜 기능 가능\n",
        "print('''여기까지는\n",
        "돌았습니다1''')"
      ],
      "metadata": {
        "colab": {
          "base_uri": "https://localhost:8080/"
        },
        "id": "sSqU3PdRF5kg",
        "outputId": "bef7da02-2dab-43a4-f84a-9180709ac045"
      },
      "execution_count": null,
      "outputs": [
        {
          "output_type": "stream",
          "name": "stdout",
          "text": [
            "여기까지는\n",
            "돌았습니다1\n"
          ]
        }
      ]
    },
    {
      "cell_type": "code",
      "source": [
        "print(\"'안녕'\") # 안에 작은따옴표 덧붙이고 싶을때 큰 따옴표를 밖에 붙이기\n",
        "print('\"안녕\"')"
      ],
      "metadata": {
        "colab": {
          "base_uri": "https://localhost:8080/",
          "height": 108
        },
        "id": "Gf2ivaP2GSrE",
        "outputId": "c99e5185-7466-4023-bc89-97c95e642822"
      },
      "execution_count": null,
      "outputs": [
        {
          "output_type": "error",
          "ename": "SyntaxError",
          "evalue": "invalid syntax. Perhaps you forgot a comma? (<ipython-input-7-43823a52bfc7>, line 3)",
          "traceback": [
            "\u001b[0;36m  File \u001b[0;32m\"<ipython-input-7-43823a52bfc7>\"\u001b[0;36m, line \u001b[0;32m3\u001b[0m\n\u001b[0;31m    print('\"'안녕'\"')\u001b[0m\n\u001b[0m          ^\u001b[0m\n\u001b[0;31mSyntaxError\u001b[0m\u001b[0;31m:\u001b[0m invalid syntax. Perhaps you forgot a comma?\n"
          ]
        }
      ]
    },
    {
      "cell_type": "code",
      "source": [
        "# 코드 2-8 색깔 문자를 연결하는 코드\n",
        "print(\"빨\",\"주\",\"노\",\"초\",\"파\",\"남\",\"보\") # 띄어쓰기가 자동으로 생김\n",
        "print(\"빨\"+\"주\"+\"노\"+\"초\"+\"파\"+\"남\"+\"보\") # 띄어쓰기 없이 생김"
      ],
      "metadata": {
        "colab": {
          "base_uri": "https://localhost:8080/"
        },
        "id": "YbUNLQ-H5PKe",
        "outputId": "dc30f23f-9c29-4443-d98e-a9bf5c594d81"
      },
      "execution_count": null,
      "outputs": [
        {
          "output_type": "stream",
          "name": "stdout",
          "text": [
            "빨 주 노 초 파 남 보\n",
            "빨주노초파남보\n"
          ]
        }
      ]
    },
    {
      "cell_type": "code",
      "source": [
        "# 2-9 변수에 저장\n",
        "rainbow = '빨주노초파남보'\n",
        "print(rainbow)\n",
        "\n",
        "# 변수명의 특성\n",
        "# - 문자와 숫자, _를 사용할 수 있습니다.\n",
        "# - 대문자와 소문자를 구분합니다.\n",
        "# - 공백은 사용할 수 없습니다.\n",
        "# - 숫자로 시작할 수 없습니다.\n",
        "# - 미리 예약된 이름은 사용할 수 없습니다."
      ],
      "metadata": {
        "colab": {
          "base_uri": "https://localhost:8080/",
          "height": 72
        },
        "id": "Mt4K34k95xGL",
        "outputId": "04c084e8-042c-4a7c-bdff-c9c65236268f"
      },
      "execution_count": null,
      "outputs": [
        {
          "output_type": "stream",
          "name": "stdout",
          "text": [
            "빨주노초파남보\n"
          ]
        },
        {
          "output_type": "execute_result",
          "data": {
            "text/plain": [
              "'\\n변수명의 특성\\n- 문자와 숫자, _를 사용할 수 있습니다.\\t\\n- 대문자와 소문자를 구분합니다.  \\n- 공백은 사용할 수 없습니다.\\n- 숫자로 시작할 수 없습니다.\\n- 미리 예약된 이름은 사용할 수 없습니다.\\n'"
            ],
            "application/vnd.google.colaboratory.intrinsic+json": {
              "type": "string"
            }
          },
          "metadata": {},
          "execution_count": 24
        }
      ]
    },
    {
      "cell_type": "code",
      "source": [
        "# 코드 2-10 변수에 저장한 값을 변경하는 코드\n",
        "count = 0\n",
        "print(count) # 0\n",
        "count = 1\n",
        "print(count) # 1로 변수 변경됨\n",
        "count = count + 1\n",
        "print(count) # 1 + 1이라서 2가 됨"
      ],
      "metadata": {
        "colab": {
          "base_uri": "https://localhost:8080/"
        },
        "id": "IjZIZKuY56-I",
        "outputId": "1e0b604f-55d6-4076-afd2-43da5a4d629f"
      },
      "execution_count": null,
      "outputs": [
        {
          "output_type": "stream",
          "name": "stdout",
          "text": [
            "0\n",
            "1\n",
            "2\n"
          ]
        }
      ]
    },
    {
      "cell_type": "code",
      "source": [
        "# 커피, 주스, 홍차 가격을 각각 coffee, juice, tea에 저장하세요.\n",
        "coffee = 4100\n",
        "juice = 4600\n",
        "tea = 3900\n",
        "# 변수를 사용해 주문에 맞게 계산하고 각 금액을 출력하세요\n",
        "    # 주문서 1 : 커피 3잔, 주스 2잔, 홍차 1잔\n",
        "print(coffee*3+juice*2+tea*1)\n",
        "bill_1 = coffee*3+juice*2+tea*1\n",
        "print(bill_1)\n",
        "print(\"총 가격은\", bill_1, \"입니다.\")\n",
        "    # 주문서 2 : 커피 4잔, 주스 3잔, 홍차 3잔\n",
        "print(coffee*4+juice*3+tea*3)\n",
        "    # 주문서 3 : 커피 1잔, 주스 1잔, 홍차 2잔\n",
        "print(coffee*1+juice*1+tea*2)"
      ],
      "metadata": {
        "colab": {
          "base_uri": "https://localhost:8080/"
        },
        "id": "ebhjNKle6Hba",
        "outputId": "3df8d620-40b9-4ea2-afe6-38e1f72a8cf0"
      },
      "execution_count": null,
      "outputs": [
        {
          "output_type": "stream",
          "name": "stdout",
          "text": [
            "25400\n",
            "25400\n",
            "총 가격은 25400 입니다.\n",
            "41900\n",
            "16500\n"
          ]
        }
      ]
    },
    {
      "cell_type": "code",
      "source": [
        "# 주석처리 ctrl + /로 가능함"
      ],
      "metadata": {
        "id": "UJbi8ZKJ6wjC"
      },
      "execution_count": null,
      "outputs": []
    }
  ]
}