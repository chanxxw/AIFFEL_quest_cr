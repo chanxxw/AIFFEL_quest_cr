{
  "nbformat": 4,
  "nbformat_minor": 0,
  "metadata": {
    "colab": {
      "provenance": [],
      "include_colab_link": true
    },
    "kernelspec": {
      "name": "python3",
      "display_name": "Python 3"
    },
    "language_info": {
      "name": "python"
    }
  },
  "cells": [
    {
      "cell_type": "markdown",
      "metadata": {
        "id": "view-in-github",
        "colab_type": "text"
      },
      "source": [
        "<a href=\"https://colab.research.google.com/github/chanxxw/AIFFEL_quest_cr/blob/master/Python/My_First_Python/my_first_python_project_1.ipynb\" target=\"_parent\"><img src=\"https://colab.research.google.com/assets/colab-badge.svg\" alt=\"Open In Colab\"/></a>"
      ]
    },
    {
      "cell_type": "markdown",
      "source": [
        "# 1일차 프로젝트: 🧙‍♂️ 이세계 포션 상점 운영 대모험! 🧪\n",
        "\n",
        "평범한 취준생이었던 당신, 어느 날 횡단보도를 건너다 갑작스러운 트럭과의 만남 후... 눈을 떠보니 이세계! 😵  \n",
        "낯선 세계에 덩그러니 떨어진 당신을 발견하고 손을 내민 건 바로 포션 상점을 운영하는 초보 상인이었답니다. 🧪  \n",
        "다행히 취업을 위해 열심히 공부했던 파이썬 실력이 이세계에서도 빛을 발할 때가 왔네요! 당신은 은인에게 은혜를 갚기 위해 파이썬 코딩 실력으로 포션 상점 운영을 도와주기로 결심했습니다! 🐍💻  \n",
        "\n",
        "<img src=\"https://drive.google.com/uc?export=view&id=1JYgHgoywmeVNaBaHagQ0kANY1ztd-AYZ\" width=\"480\"/>"
      ],
      "metadata": {
        "id": "xgG1cY8G36gT"
      }
    },
    {
      "cell_type": "markdown",
      "source": [
        "### 1일차: 포션 가격 책정"
      ],
      "metadata": {
        "id": "WevCxgMP4Dgg"
      }
    },
    {
      "cell_type": "markdown",
      "source": [
        "첫 손님이 방문했어요! 손님은 체력포션 24개와 마나포션 37개를 주문했습니다. 엄청난 대량 주문이네요!   \n",
        "처음 들어온 대량 주문에 당황한 상점 주인을 구해줄 여러분의 파이썬 코드가 필요해요! 총 결제 금액을 계산해볼까요?\n",
        "\n",
        "---\n",
        "- 각 포션 변수에 가격을 저장하세요\n",
        "    - 체력 포션 550 골드\n",
        "    - 마나 포션 700 골드\n",
        "- 손님이 주문한 포션 개수도 변수로 관리하세요\n",
        "- 총 결제 금액을 계산하여 출력해주세요"
      ],
      "metadata": {
        "id": "uegk6B6V4GSS"
      }
    },
    {
      "cell_type": "code",
      "execution_count": null,
      "metadata": {
        "id": "yFPXEtI-3L1k",
        "colab": {
          "base_uri": "https://localhost:8080/"
        },
        "outputId": "a451c598-b18d-4952-870e-15213176437f"
      },
      "outputs": [
        {
          "output_type": "stream",
          "name": "stdout",
          "text": [
            "39100\n"
          ]
        }
      ],
      "source": [
        "hp_portion = 550\n",
        "mp_portion = 700\n",
        "\n",
        "money_1 = 24*hp_portion + 37*mp_portion\n",
        "print(money_1)\n",
        "\n",
        "#hp_num  = 24\n",
        "#mp_num = 37 으로 설정 후\n",
        "# money_1 = hp_num*hp_portion + mp_num*mp_portion\n"
      ]
    },
    {
      "cell_type": "markdown",
      "source": [
        "### 2일차: 할인 이벤트 시작 🎉"
      ],
      "metadata": {
        "id": "H5YoQVa25DBM"
      }
    },
    {
      "cell_type": "markdown",
      "source": [
        "여러분의 코드 덕분에 계산이 빨라져서 상점 주인이 신이 났어요! 오늘은 모든 손님에게 10% 할인 이벤트를 진행한대요!  \n",
        "마침 다음 손님이 3만 골드의 예산으로 체력 포션을 구매하려고 해요! 최대 몇 개나 살 수 있을까요?\n",
        "\n",
        "---\n",
        "- 할인율을 변수로 저장해보세요\n",
        "- 할인된 가격으로 최대 구매 가능 포션 개수를 계산하세요\n",
        "- 전체 지불 가격도 계산해보세요\n",
        "- 결과를 멋지게 출력해보세요!"
      ],
      "metadata": {
        "id": "fwxH4Ayj5JDS"
      }
    },
    {
      "cell_type": "code",
      "source": [
        "hp_portion_day2 = 0.9*hp_portion\n",
        "mp_portion_day2 = 0.9*mp_portion\n",
        "\n",
        "money_2 = 30000\n",
        "hp_2 = int(money_2//hp_portion_day2)\n",
        "print(\"2일차 손님이 3만 골드의 예산으로 체력 포션을 최대\", hp_2, \"개 구매할 수 있습니다\")"
      ],
      "metadata": {
        "id": "50RTMEy35HM2",
        "colab": {
          "base_uri": "https://localhost:8080/"
        },
        "outputId": "a77c09db-db24-430c-8efd-931dc5509148"
      },
      "execution_count": null,
      "outputs": [
        {
          "output_type": "stream",
          "name": "stdout",
          "text": [
            "2일차 손님이 3만 골드의 예산으로 체력 포션을 최대 60 개 구매할 수 있습니다\n"
          ]
        }
      ]
    },
    {
      "cell_type": "markdown",
      "source": [
        "### 3일차: 가격 인상 적용하기 📈"
      ],
      "metadata": {
        "id": "cHAAlXIN5X0U"
      }
    },
    {
      "cell_type": "markdown",
      "source": [
        "이런! 오늘 아침 체력 포션 원자재 가격 인상 소식이 왔어요... 상점 주인도 울며 겨자 먹기로 가격 인상을 결정했답니다.  \n",
        "오늘의 손님은 2만 골드로 마나 포션 5개와 가능한 많은 체력 포션을 사고 싶대요! 이 손님은 가격이 인상된 체력 포션을 몇 개나 살 수 있을까요?\n",
        "\n",
        "---\n",
        "- 체력 포션 가격을 575 골드로 수정해보세요\n",
        "- 손님이 구매할 수 있는 최대 체력 포션 개수를 계산해보세요\n",
        "- 전체 지불 가격도 출력해보세요"
      ],
      "metadata": {
        "id": "vo1en4qh5dJN"
      }
    },
    {
      "cell_type": "code",
      "source": [
        "hp_portion = 575\n",
        "money_3 = 20000\n",
        "hp_3 = int((20000-(5*mp_portion))//hp_portion)\n",
        "print(\"3일차 손님은 가격 인상된 체력 포션을 최대 \", hp_3, \"개 살 수 있습니다\")\n",
        "total_3 = hp_3*hp_portion + 5*mp_portion\n",
        "print(\"3일차 손님의 전체 지불가격은\", total_3,\"골드 입니다\")"
      ],
      "metadata": {
        "id": "1pUVyzNx5cyx",
        "colab": {
          "base_uri": "https://localhost:8080/"
        },
        "outputId": "9a6cddce-7011-4cc9-f231-261e84749398"
      },
      "execution_count": null,
      "outputs": [
        {
          "output_type": "stream",
          "name": "stdout",
          "text": [
            "3일차 손님은 가격 인상된 체력 포션을 최대  28 개 살 수 있습니다\n",
            "3일차 손님의 전체 지불가격은 19600 골드 입니다\n"
          ]
        }
      ]
    },
    {
      "cell_type": "markdown",
      "source": [
        "### 4일차: 영수증 출력하기 🧾"
      ],
      "metadata": {
        "id": "ZWdc9-wT5tT4"
      }
    },
    {
      "cell_type": "markdown",
      "source": [
        "오늘의 손님은 체력 포션과 마나 포션을 각각 20개씩 주문했네요! 그런데 이 손님, 주인님의 심부름꾼이라면서 영수증을 꼭 챙겨달라고 하는군요!\n",
        "상점 주인은 영수증을 만들어본 적이 없다고 하니, 여러분의 파이썬 실력으로 멋진 영수증을 만들어볼까요?\n",
        "\n",
        "---\n",
        "- 영수증에는 다음 정보가 포함되어야 해요:\n",
        "    - 영수증임을 나타내는 구분선\n",
        "    - 각 포션의 가격\n",
        "    - 각 포션 구매 개수\n",
        "    - 각 포션 총합 금액\n",
        "    - 총 결제 금액\n",
        "\n",
        "예시 출력\n",
        "```\n",
        "==================================================\n",
        "체력 포션 575 골드  20 개 : 11500 골드\n",
        "마나 포션 700 골드  20 개 : 14000 골드\n",
        "--------------------------------------------------\n",
        "총 결제 금액 25500 골드\n",
        "==================================================\n",
        "```"
      ],
      "metadata": {
        "id": "qE_mQNSm5yAO"
      }
    },
    {
      "cell_type": "code",
      "source": [
        "hp_4 = 20\n",
        "mp_4 = 20\n",
        "\n",
        "print('                    오늘의 영수증')\n",
        "print('==================================================')\n",
        "print('체력 포션', hp_portion, '골드 ', hp_4, '개 :', hp_portion*hp_4, '골드')\n",
        "print('마나 포션', mp_portion, '골드 ', mp_4, '개 :', mp_portion*mp_4, '골드')\n",
        "print('--------------------------------------------------')\n",
        "print('총 결제 금액', hp_portion*hp_4 + mp_portion*mp_4, '골드')\n",
        "print('==================================================')\n",
        "\n",
        "print('''\n",
        "\n",
        "                      캡틴짱''')"
      ],
      "metadata": {
        "id": "9B-39MwL5xqi",
        "colab": {
          "base_uri": "https://localhost:8080/"
        },
        "outputId": "e877301e-d25f-489b-e9b7-3bd4e022fb31"
      },
      "execution_count": null,
      "outputs": [
        {
          "output_type": "stream",
          "name": "stdout",
          "text": [
            "                    오늘의 영수증\n",
            "==================================================\n",
            "체력 포션 575 골드  20 개 : 11500 골드\n",
            "마나 포션 700 골드  20 개 : 14000 골드\n",
            "--------------------------------------------------\n",
            "총 결제 금액 25500 골드\n",
            "==================================================\n",
            "\n",
            "\n",
            "                      캡틴짱\n"
          ]
        }
      ]
    },
    {
      "cell_type": "markdown",
      "source": [
        "### 추가 과제\n",
        "영수증처럼, 정해진 문자열 안에 변수의 값을 넣어서 출력하고 싶을 때 문자열 덧셈을 통해 출력하는 건 너무 번거로워 보이는군요😵  \n",
        "파이썬 문자열 포맷팅(string formatting)에 대해서 알아보고, f-string 방법을 통해 영수증을 출력해 볼까요?"
      ],
      "metadata": {
        "id": "DQtnKuJkXwHm"
      }
    },
    {
      "cell_type": "code",
      "source": [
        "total_hp = f'체력 포션 {hp_portion} 골드  {hp_4}개 : {hp_portion*hp_4} 골드'\n",
        "total_mp = f'마나 포션 {mp_portion} 골드  {mp_4}개 : {mp_portion*mp_4} 골드'\n",
        "money_total = f'총 결제 금액 {hp_portion*hp_4 + mp_portion*mp_4} 골드'\n",
        "\n",
        "print('                      영수증')\n",
        "print('==================================================')\n",
        "print(total_hp)\n",
        "print(total_mp)\n",
        "print('--------------------------------------------------')\n",
        "print(money_total)\n",
        "print('==================================================')\n",
        "\n",
        "print('''\n",
        "\n",
        "                      캡틴짱''')"
      ],
      "metadata": {
        "id": "Sw8eETK9Ydjg",
        "colab": {
          "base_uri": "https://localhost:8080/"
        },
        "outputId": "3a5831c0-3eb7-4f0e-f32f-2d050a292aaa"
      },
      "execution_count": null,
      "outputs": [
        {
          "output_type": "stream",
          "name": "stdout",
          "text": [
            "                      영수증\n",
            "==================================================\n",
            "체력 포션 575 골드 20개 : 11500 골드\n",
            "마나 포션 700 골드 20개 : 14000 골드\n",
            "--------------------------------------------------\n",
            "총 결제 금액 25500 골드\n",
            "==================================================\n",
            "\n",
            "\n",
            "                      캡틴짱\n"
          ]
        }
      ]
    },
    {
      "cell_type": "code",
      "source": [
        "import datetime\n",
        "from pytz import timezone # 해당 지역의 시간을 가져오기\n",
        "\n",
        "print(datetime.datetime.today()) # 이건 UTC 시간\n",
        "datetime_today = datetime.datetime.now(timezone('Asia/Seoul')) # 한국 시간으로 설정\n",
        "time_wc = datetime_today.strftime('%Y-%m-%d: %H:%M:%S')\n",
        "print(time_wc)"
      ],
      "metadata": {
        "colab": {
          "base_uri": "https://localhost:8080/"
        },
        "id": "BR2i0--LOOUM",
        "outputId": "23af25bb-5e02-4871-e327-cf50a64cbf35"
      },
      "execution_count": null,
      "outputs": [
        {
          "output_type": "stream",
          "name": "stdout",
          "text": [
            "2025-04-15 07:05:25.513543\n",
            "2025-04-15: 16:05:25\n"
          ]
        }
      ]
    },
    {
      "cell_type": "code",
      "source": [
        "# 랜덤 출력\n",
        "import random\n",
        "fortune_today = ['백수는 모두의 천직', '오늘도 수고많아요', '어서 퇴근합시다', '모두모임 재밌다',\n",
        "          '파이썬 고수가 됩시다', '퇴근길 조심하세요', '집가는 길 복권사세요', '앞으로 뭐해먹고 살지',\n",
        "          '저녁메뉴는 제육볶음', '다음 포션은 디카페인으로 드세요', '포션만 먹고 살다 일찍 죽는다~']\n",
        "print(random.choice(fortune_today))"
      ],
      "metadata": {
        "colab": {
          "base_uri": "https://localhost:8080/"
        },
        "id": "M_wX-ZDORhYA",
        "outputId": "c12d3587-4186-4f11-8093-623b7c4817dd"
      },
      "execution_count": null,
      "outputs": [
        {
          "output_type": "stream",
          "name": "stdout",
          "text": [
            "퇴근길 조심하세요\n"
          ]
        }
      ]
    },
    {
      "cell_type": "code",
      "source": [
        "total_hp = f'체력 포션 {hp_portion} 골드 {hp_4}개 : {hp_portion*hp_4} 골드'\n",
        "total_mp = f'체력 포션 {mp_portion} 골드 {mp_4}개 : {mp_portion*mp_4} 골드'\n",
        "money_total = f'총 결제 금액 {hp_portion*hp_4 + mp_portion*mp_4} 골드'\n",
        "time_wc_2 = f'결제 시간 : {time_wc}'\n",
        "fortune = f'오늘의 운세 : {random.choice(fortune_today)}'\n",
        "\n",
        "print('                      영수증')\n",
        "print('==================================================')\n",
        "print(time_wc_2)\n",
        "print('--------------------------------------------------')\n",
        "print(total_hp)\n",
        "print(total_mp)\n",
        "print('--------------------------------------------------')\n",
        "print(money_total)\n",
        "print('--------------------------------------------------')\n",
        "print(fortune)\n",
        "print('==================================================')\n",
        "\n",
        "print('''\n",
        "\n",
        "                      캡틴짱''')\n",
        "\n",
        "#print('='*50) 과 같은 형태로 표현해도 좋아요"
      ],
      "metadata": {
        "colab": {
          "base_uri": "https://localhost:8080/"
        },
        "id": "PgZByMrSO8gR",
        "outputId": "f98ee844-d0bc-4a0a-8e10-638062332802"
      },
      "execution_count": null,
      "outputs": [
        {
          "output_type": "stream",
          "name": "stdout",
          "text": [
            "                      영수증\n",
            "==================================================\n",
            "결제 시간 : 2025-04-15: 16:05:25\n",
            "--------------------------------------------------\n",
            "체력 포션 575 골드 20개 : 11500 골드\n",
            "체력 포션 700 골드 20개 : 14000 골드\n",
            "--------------------------------------------------\n",
            "총 결제 금액 25500 골드\n",
            "--------------------------------------------------\n",
            "오늘의 운세 : 앞으로 뭐해먹고 살지\n",
            "==================================================\n",
            "\n",
            "\n",
            "                      캡틴짱\n"
          ]
        }
      ]
    },
    {
      "cell_type": "code",
      "source": [],
      "metadata": {
        "id": "Q6179jLUQB8V"
      },
      "execution_count": null,
      "outputs": []
    }
  ]
}