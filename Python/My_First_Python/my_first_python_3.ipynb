{
  "nbformat": 4,
  "nbformat_minor": 0,
  "metadata": {
    "colab": {
      "provenance": [],
      "include_colab_link": true
    },
    "kernelspec": {
      "name": "python3",
      "display_name": "Python 3"
    },
    "language_info": {
      "name": "python"
    }
  },
  "cells": [
    {
      "cell_type": "markdown",
      "metadata": {
        "id": "view-in-github",
        "colab_type": "text"
      },
      "source": [
        "<a href=\"https://colab.research.google.com/github/chanxxw/AIFFEL_quest_cr/blob/master/Python/My_First_Python/my_first_python_3.ipynb\" target=\"_parent\"><img src=\"https://colab.research.google.com/assets/colab-badge.svg\" alt=\"Open In Colab\"/></a>"
      ]
    },
    {
      "cell_type": "markdown",
      "source": [
        "## 내생애 첫 파이썬\n",
        "### 한입에쏙파이썬 책을 바탕으로 하는 모두모임\n",
        "- https://modulabs.co.kr/community/momos/188/crews\n",
        "- 공부용 유튜브 링크 : https://youtu.be/UrwFkNRzzT4?si=hbMEw2JqM8bA8Xgr\n",
        "- 학습 기간 : 2025.04.15.~24.\n",
        "- 매주 화, 목 15:00~17:00\n",
        "\n",
        "\n",
        "### 본 ipynb는 #38~#60 내용을 담고 있습니다."
      ],
      "metadata": {
        "id": "5eBZlp80fDjQ"
      }
    },
    {
      "cell_type": "code",
      "execution_count": null,
      "metadata": {
        "colab": {
          "base_uri": "https://localhost:8080/"
        },
        "id": "Jve0HzdyfA2s",
        "outputId": "ed0870b3-7272-4ec1-c97a-d40a205ef86c"
      },
      "outputs": [
        {
          "output_type": "stream",
          "name": "stdout",
          "text": [
            "True\n",
            "<class 'bool'>\n",
            "False\n",
            "<class 'bool'>\n"
          ]
        }
      ],
      "source": [
        "# 코드 5-1 True와 False (대문자 주의)\n",
        "print(True)\n",
        "print(type(True))\n",
        "print(False)\n",
        "print(type(False))"
      ]
    },
    {
      "cell_type": "code",
      "source": [
        "# 코드 5-2 값을 비교하는 코드\n",
        "print(1<2)\n",
        "print(2<1)\n",
        "# 코드 5-3 값을 비교하는 코드\n",
        "print(2>1)\n",
        "print(2>2)\n",
        "# 코드 5-4 값을 비교하는 코드\n",
        "print(1<=1)\n",
        "print(2<=1)\n",
        "# 코드 5-5 값을 비교하는 코드\n",
        "print(1>=1)\n",
        "print(1>=2)\n",
        "# 코드 5-6 값을 비교하는 코드\n",
        "print(1==1)\n",
        "print(2==1)\n",
        "# print(1=1) # 내가 궁금해서 쳐봄\n",
        "# SyntaxError: expression cannot contain assignment, perhaps you meant \"==\"? 오류로 발생\n",
        "# 코드 5-7 값을 비교하는 코드\n",
        "print(1!=2)\n",
        "print(2!=2)"
      ],
      "metadata": {
        "colab": {
          "base_uri": "https://localhost:8080/"
        },
        "id": "HMKxqPyVfcAp",
        "outputId": "ee227174-a9a0-4948-8435-a052751f45bb"
      },
      "execution_count": null,
      "outputs": [
        {
          "output_type": "stream",
          "name": "stdout",
          "text": [
            "True\n",
            "False\n",
            "True\n",
            "False\n",
            "True\n",
            "False\n",
            "True\n",
            "False\n",
            "True\n",
            "False\n",
            "True\n",
            "False\n"
          ]
        }
      ]
    },
    {
      "cell_type": "code",
      "source": [
        "# if 문 코드 5-8 조건에 따라 출력하는 코드\n",
        "if True:\n",
        "    print('참입니다.')\n"
      ],
      "metadata": {
        "colab": {
          "base_uri": "https://localhost:8080/"
        },
        "id": "RgTIF2l8f9vD",
        "outputId": "649124f9-567e-4bb9-971b-4a5700786159"
      },
      "execution_count": null,
      "outputs": [
        {
          "output_type": "stream",
          "name": "stdout",
          "text": [
            "참입니다.\n"
          ]
        }
      ]
    },
    {
      "cell_type": "code",
      "source": [
        "# 코드 5-9 조건에 따라 출력하는 코드\n",
        "if False:\n",
        "    print('참입니다.')\n",
        "else:\n",
        "    print('거짓입니다')"
      ],
      "metadata": {
        "colab": {
          "base_uri": "https://localhost:8080/"
        },
        "id": "tf7Pjsrcg2nc",
        "outputId": "2b0edfc3-8dcc-4cc1-817b-97168681397e"
      },
      "execution_count": null,
      "outputs": [
        {
          "output_type": "stream",
          "name": "stdout",
          "text": [
            "거짓입니다\n"
          ]
        }
      ]
    },
    {
      "cell_type": "code",
      "source": [
        "# 코드 5-10, 11 점수에 따라 합격여부를 출력하는 코드\n",
        "score = 60\n",
        "if score >= 90:\n",
        "    print('합격입니다.')\n",
        "else:\n",
        "    print('탈락입니다.')"
      ],
      "metadata": {
        "colab": {
          "base_uri": "https://localhost:8080/"
        },
        "id": "ab4oSWYsg-No",
        "outputId": "bd598981-f678-47ed-e3a8-0266d4d9ab51"
      },
      "execution_count": null,
      "outputs": [
        {
          "output_type": "stream",
          "name": "stdout",
          "text": [
            "탈락입니다.\n"
          ]
        }
      ]
    },
    {
      "cell_type": "code",
      "source": [
        "# 코드 5-12 if와 else, elif(else if)\n",
        "score = 75\n",
        "if 80 < score <= 100:\n",
        "    print('학점은 A입니다')\n",
        "elif 60 < score <= 80:\n",
        "    print('학점은 B입니다')\n",
        "elif 40 < score <= 60:\n",
        "    print('학점은 C입니다')\n",
        "else:\n",
        "    print('학점은 F입니다')"
      ],
      "metadata": {
        "colab": {
          "base_uri": "https://localhost:8080/"
        },
        "id": "i8ppKehRhHEu",
        "outputId": "3ff517bd-a870-4a42-fef0-d31a20cd6deb"
      },
      "execution_count": null,
      "outputs": [
        {
          "output_type": "stream",
          "name": "stdout",
          "text": [
            "학점은 B입니다\n"
          ]
        }
      ]
    },
    {
      "cell_type": "code",
      "source": [
        "# 코드 5-13 총 입장료를 계산하는 코드\n",
        "total_price = 0\n",
        "ages = [22,21,17,32,4,28,19,8]\n",
        "for age in ages:\n",
        "    if age >=20:\n",
        "        total_price = total_price + 8000\n",
        "    elif age>=10:\n",
        "        total_price = total_price + 5000\n",
        "    else:\n",
        "        total_price = total_price + 2500\n",
        "print('총 입장료는', total_price, '원 입니다')"
      ],
      "metadata": {
        "colab": {
          "base_uri": "https://localhost:8080/"
        },
        "id": "9WMcCL3ch90a",
        "outputId": "c8cef9ac-8fff-4583-d986-dd000b189203"
      },
      "execution_count": null,
      "outputs": [
        {
          "output_type": "stream",
          "name": "stdout",
          "text": [
            "총 입장료는 47000 원 입니다\n"
          ]
        }
      ]
    },
    {
      "cell_type": "code",
      "source": [
        "# 여러조건 판단하기 5-14 여러 조건을 판단하는 코드\n",
        "games = 12\n",
        "points = 25\n",
        "if games >= 10 and points >= 20:\n",
        "    print('MVP로 선정되었습니다.')"
      ],
      "metadata": {
        "colab": {
          "base_uri": "https://localhost:8080/"
        },
        "id": "ToVtshr4inhv",
        "outputId": "d64aa135-8a90-43b2-b787-8aee4b55b6a7"
      },
      "execution_count": null,
      "outputs": [
        {
          "output_type": "stream",
          "name": "stdout",
          "text": [
            "MVP로 선정되었습니다.\n"
          ]
        }
      ]
    },
    {
      "cell_type": "code",
      "source": [
        "# 코드 5-15 and의 결과를 확인하는 코드\n",
        "print(True and True)\n",
        "print(True and False)\n",
        "print(False and True)\n",
        "print(False and False)"
      ],
      "metadata": {
        "colab": {
          "base_uri": "https://localhost:8080/"
        },
        "id": "Xy6uS3E1jmty",
        "outputId": "3d2e82e8-0e0a-41e6-8100-4131b4e13d10"
      },
      "execution_count": null,
      "outputs": [
        {
          "output_type": "stream",
          "name": "stdout",
          "text": [
            "True\n",
            "False\n",
            "False\n",
            "False\n"
          ]
        }
      ]
    },
    {
      "cell_type": "code",
      "source": [
        "# 코드 5-16 or의 결과를 확인하는 코드\n",
        "print(True or True)\n",
        "print(True or False)\n",
        "print(False or True)\n",
        "print(False or False)"
      ],
      "metadata": {
        "colab": {
          "base_uri": "https://localhost:8080/"
        },
        "id": "kg6wBnbOj1G5",
        "outputId": "f42c02dc-8888-452d-e83b-967e297a66f4"
      },
      "execution_count": null,
      "outputs": [
        {
          "output_type": "stream",
          "name": "stdout",
          "text": [
            "True\n",
            "True\n",
            "True\n",
            "False\n"
          ]
        }
      ]
    },
    {
      "cell_type": "code",
      "source": [
        "# 코드 5-17 not의 결과를 확인하는 코드\n",
        "print(not True)\n",
        "print(not False)"
      ],
      "metadata": {
        "colab": {
          "base_uri": "https://localhost:8080/"
        },
        "id": "M5iMkAPLjOqe",
        "outputId": "e0617aec-3fbe-4530-94fa-bb1079b31676"
      },
      "execution_count": null,
      "outputs": [
        {
          "output_type": "stream",
          "name": "stdout",
          "text": [
            "False\n",
            "True\n"
          ]
        }
      ]
    },
    {
      "cell_type": "code",
      "source": [
        "# 코드 5-18 인상착의로 범인을 잡아내는 코드\n",
        "suspects = [['거위', '새', '암컷'], ['푸들', '개', '수컷'], ['비글', '개', '암컷']]\n",
        "for suspect in suspects:\n",
        "    if suspect[1] == '개' and suspect[2] == '암컷':\n",
        "        print('범인은', suspect[0], '입니다')\n",
        "    else:\n",
        "        print(suspect[0], '는 범인이 아닙니다.')\n",
        "\n",
        "# suspects[1] → 전체 리스트 중 두 번째 용의자 (['푸들', '개', '수컷'])"
      ],
      "metadata": {
        "colab": {
          "base_uri": "https://localhost:8080/"
        },
        "id": "VeaHZ7VTj6DG",
        "outputId": "be5fb407-d028-46bf-a4e6-de2764c6ea12"
      },
      "execution_count": null,
      "outputs": [
        {
          "output_type": "stream",
          "name": "stdout",
          "text": [
            "거위 는 범인이 아닙니다.\n",
            "푸들 는 범인이 아닙니다.\n",
            "범인은 비글 입니다\n"
          ]
        }
      ]
    },
    {
      "cell_type": "code",
      "source": [
        "# 조건으로 반복하기, while 기본 구조\n",
        "# 코드 6-1 for를 사용해 거북이에게 인사하는 코드\n",
        "for num in range(3):\n",
        "    print('안녕 거북이', num)\n"
      ],
      "metadata": {
        "colab": {
          "base_uri": "https://localhost:8080/"
        },
        "id": "Tv7ySrQyuFSP",
        "outputId": "e2a164e9-ee84-4759-e647-a10c99a16151"
      },
      "execution_count": null,
      "outputs": [
        {
          "output_type": "stream",
          "name": "stdout",
          "text": [
            "안녕 거북이 0\n",
            "안녕 거북이 1\n",
            "안녕 거북이 2\n"
          ]
        }
      ]
    },
    {
      "cell_type": "code",
      "source": [
        "# 코드 6-2\n",
        "num = 0\n",
        "while num <3:\n",
        "    print('안녕 거북이', num)\n",
        "    num = num + 1\n",
        "# 잘못 설정하면 무한 루프에 빠질 수 있어... num =+ 1로 했더니 순식간에.."
      ],
      "metadata": {
        "colab": {
          "base_uri": "https://localhost:8080/"
        },
        "id": "LSc2ng8dvWxG",
        "outputId": "f780695d-999a-4923-a260-9156969445c6"
      },
      "execution_count": null,
      "outputs": [
        {
          "output_type": "stream",
          "name": "stdout",
          "text": [
            "안녕 거북이 0\n",
            "안녕 거북이 1\n",
            "안녕 거북이 2\n"
          ]
        }
      ]
    },
    {
      "cell_type": "code",
      "source": [
        "# while의 코드를 다섯 번만 반복하게 하세요.\n",
        "# 반복할 때마다 몇 번째 바퀴인지 출력하세요.\n",
        "# 전부 다 돌면 '경주 끝!'을 외치세요\n",
        "# 코드 6-3\n",
        "num = 0\n",
        "while num<5:\n",
        "    print('현재', num+1, '번째 바퀴 입니다')\n",
        "    num = num + 1\n",
        "print('경주 끝')"
      ],
      "metadata": {
        "colab": {
          "base_uri": "https://localhost:8080/"
        },
        "id": "fPJu1HVvvh6C",
        "outputId": "b4b4a515-2d29-42fe-ae1c-4f77f9ef3ccf"
      },
      "execution_count": null,
      "outputs": [
        {
          "output_type": "stream",
          "name": "stdout",
          "text": [
            "현재 1 번째 바퀴 입니다\n",
            "현재 2 번째 바퀴 입니다\n",
            "현재 3 번째 바퀴 입니다\n",
            "현재 4 번째 바퀴 입니다\n",
            "현재 5 번째 바퀴 입니다\n",
            "경주 끝\n"
          ]
        }
      ]
    },
    {
      "cell_type": "code",
      "source": [
        "# 입력을 받는 방법 input()\n",
        "# 코드 6-4 이름을 입력받는 코드\n",
        "name = input('이름이 뭔가요? ')\n",
        "print(name, '안녕!')"
      ],
      "metadata": {
        "colab": {
          "base_uri": "https://localhost:8080/"
        },
        "id": "IT_7xZPGwE1j",
        "outputId": "09b978b9-997a-4b9c-89ea-976325a20b3a"
      },
      "execution_count": null,
      "outputs": [
        {
          "output_type": "stream",
          "name": "stdout",
          "text": [
            "이름이 뭔가요?우찬\n",
            "우찬 안녕!\n"
          ]
        }
      ]
    },
    {
      "cell_type": "code",
      "source": [
        "# 영국의 수도를 묻고 입력을 받아 answer에 저장하세요.\n",
        "# 정답인 '런던'을 맞힐 때 까지 반복해서 질문하세요.\n",
        "# 정답을 맞히면 반복을 멈추세요.\n",
        "# 코드 6-5 영국의 수도를 묻는 코드\n",
        "capital = input('영국의 수도는 어디인가요? ')\n",
        "while capital != '런던':\n",
        "    print('틀렸습니다.')\n",
        "    capital = input('영국의 수도는 어디인가요? ')\n",
        "print('맞습니다 정답은', capital, '입니다')"
      ],
      "metadata": {
        "colab": {
          "base_uri": "https://localhost:8080/"
        },
        "id": "1nfGExN_whUr",
        "outputId": "cec60734-3932-4517-ce88-8bff9d4555b4"
      },
      "execution_count": null,
      "outputs": [
        {
          "output_type": "stream",
          "name": "stdout",
          "text": [
            "영국의 수도는 어디인가요? 파리\n",
            "틀렸습니다.\n",
            "영국의 수도는 어디인가요? 팔\n",
            "틀렸습니다.\n",
            "영국의 수도는 어디인가요? 런던\n",
            "맞습니다 정답은 런던 입니다\n"
          ]
        }
      ]
    },
    {
      "cell_type": "code",
      "source": [
        "# continue와 break\n",
        "# 코드 6-6 count가 2일때 넘어가는 코드\n",
        "count = 0\n",
        "while count < 4:\n",
        "    count = count + 1\n",
        "    if count == 3:\n",
        "        continue # continue를 만나면 아래를 건너뛰고 다시 위의 조건문으로 돌아가요. 2는 스킵됨\n",
        "    print(count)"
      ],
      "metadata": {
        "colab": {
          "base_uri": "https://localhost:8080/"
        },
        "id": "M6dSf_LexJGx",
        "outputId": "02699ef9-5fb0-4009-cb6e-d13f27a1925f"
      },
      "execution_count": null,
      "outputs": [
        {
          "output_type": "stream",
          "name": "stdout",
          "text": [
            "1\n",
            "2\n",
            "4\n"
          ]
        }
      ]
    },
    {
      "cell_type": "code",
      "source": [
        "# 코드 6-7 break 활용\n",
        "count = 0\n",
        "while count < 4:\n",
        "    count = count + 1\n",
        "    if count == 3:\n",
        "        break # break를 만나면 조건문을 멈춰버림\n",
        "    print(count)"
      ],
      "metadata": {
        "colab": {
          "base_uri": "https://localhost:8080/"
        },
        "id": "d3c8262qxj3F",
        "outputId": "5ece6261-4255-4948-a344-6a46551a84b3"
      },
      "execution_count": null,
      "outputs": [
        {
          "output_type": "stream",
          "name": "stdout",
          "text": [
            "1\n",
            "2\n"
          ]
        }
      ]
    },
    {
      "cell_type": "code",
      "source": [
        "# 무한 반복하기 whiile True : 무한 반복하게 됨.\n",
        "# 파이썬 idle에서 컨트롤 c를 누르면 반복이 강제로 종료됨"
      ],
      "metadata": {
        "id": "YKPLySiwx3hM"
      },
      "execution_count": null,
      "outputs": []
    },
    {
      "cell_type": "code",
      "source": [
        "# 보기와 함께 영국의 수도를 묻고 answer에 저장하세요.\n",
        "# 틀린 답을 말하면 어느 나라의 수도인지 말해주세요.\n",
        "# 보기에 없는 답을 말하면 보기에서 고르도록 안내하세요.\n",
        "# 정답인 '런던'을 맞힐 떄 까지 반복해서 질문하세요.\n",
        "# 정답을 맞히면 break를 사용해 반복을 멈추세요\n",
        "\n",
        "while True:\n",
        "    answer = input('영국의 수도는 어디인가요 ?')\n",
        "    if answer != '런던':\n",
        "        print('틀렸습니다')\n",
        "    else:\n",
        "        print('맞히셨습니다')\n",
        "        break\n",
        "\n",
        "\n",
        "# 정답지\n",
        "while True:\n",
        "    answer = input('런던, 파리, 서울 중 영국의 수도는 어디일까요? ')\n",
        "    if answer == '런던':\n",
        "        print('정답입니다. 런던은 영국의 수도입니다.')\n",
        "        break\n",
        "    elif answer =='파리':\n",
        "        print('파리는 프랑스의 수도입니다.')\n",
        "    elif answer =='서울':\n",
        "        print('서울은 대한민국의 수도입니다.')\n",
        "    else:\n",
        "        print('런던, 파리, 서울 중에서 골라주세요')\n",
        "\n",
        "# 무한반복과 break를 활용해서 코드를 짤 수 있음\n"
      ],
      "metadata": {
        "colab": {
          "base_uri": "https://localhost:8080/"
        },
        "id": "OFCK51dgyMp7",
        "outputId": "1b7af3b5-5a99-4017-b09a-35629cc61858"
      },
      "execution_count": null,
      "outputs": [
        {
          "output_type": "stream",
          "name": "stdout",
          "text": [
            "영국의 수도는 어디인가요 ?강\n",
            "틀렸습니다\n",
            "영국의 수도는 어디인가요 ?런던\n",
            "맞히셨습니다\n",
            "런던, 파리, 서울 중 영국의 수도는 어디일까요? ㅇ\n",
            "런던, 파리, 서울 중에서 골라주세요\n",
            "런던, 파리, 서울 중 영국의 수도는 어디일까요? 런던\n",
            "정답입니다. 런던은 영국의 수도입니다.\n"
          ]
        }
      ]
    },
    {
      "cell_type": "code",
      "source": [
        "# 튜플 : 값을 바꿀 수가 없어요.\n",
        "# 튜플은 소괄호로 구분하고, 소괄호 없이도 가능합니다\n",
        "my_tuple1 = () # 빈 튜플을 생성\n",
        "print('my_tuple1은', my_tuple1, '입니다.')\n",
        "\n",
        "my_tuple2 = (1, -2, 3.14)\n",
        "print('my_tuple2은', my_tuple2, '입니다.')\n",
        "\n",
        "my_tuple3 = '엘리스', 10, 1.0, 1.2 # 소괄호 없이도 가능\n",
        "print('my_tuple3은', my_tuple3, '입니다.')\n"
      ],
      "metadata": {
        "colab": {
          "base_uri": "https://localhost:8080/"
        },
        "id": "2xCKA2aKy3kD",
        "outputId": "0c8cfbf9-efe5-47bd-f3c1-964cc366afc1"
      },
      "execution_count": null,
      "outputs": [
        {
          "output_type": "stream",
          "name": "stdout",
          "text": [
            "my_tuple1은 () 입니다.\n",
            "my_tuple2은 (1, -2, 3.14) 입니다.\n",
            "my_tuple3은 ('엘리스', 10, 1.0, 1.2) 입니다.\n"
          ]
        }
      ]
    },
    {
      "cell_type": "code",
      "source": [
        "# 코드 7-2 값이 한 개인 튜플을 만드는 코드\n",
        "my_int = (1)\n",
        "print(type(my_int))\n",
        "my_int2 = 1\n",
        "print(type(my_int2)) # 괄호를 안써도 정수로 인식한닷\n",
        "my_tuple = (1,) # 컴마를 써야만 튜플로 인식하게 됨\n",
        "print(type(my_tuple))\n"
      ],
      "metadata": {
        "colab": {
          "base_uri": "https://localhost:8080/"
        },
        "id": "irVU1vgHz2cI",
        "outputId": "79b09131-0a50-4aae-b3a6-79c11b8ad6a0"
      },
      "execution_count": null,
      "outputs": [
        {
          "output_type": "stream",
          "name": "stdout",
          "text": [
            "<class 'int'>\n",
            "<class 'int'>\n",
            "<class 'tuple'>\n"
          ]
        }
      ]
    },
    {
      "cell_type": "code",
      "source": [
        "# 값을 가져오기 튜플[접근할_인덱스]\n",
        "# 코드 7-3 튜플에서 값을 가져오는 코드\n",
        "clovers = ('클로버1', '하트2', '클로버3')\n",
        "print(clovers[1])"
      ],
      "metadata": {
        "colab": {
          "base_uri": "https://localhost:8080/"
        },
        "id": "043os__r0QV9",
        "outputId": "9794b22e-daec-40bd-d1a6-bcffcd3177e9"
      },
      "execution_count": null,
      "outputs": [
        {
          "output_type": "stream",
          "name": "stdout",
          "text": [
            "하트2\n"
          ]
        }
      ]
    },
    {
      "cell_type": "code",
      "source": [
        "# 튜플은 값을 수정할 수 없어요\n",
        "# 코드 7-4 튜플에서 값을 수정을 시도해보기(불가능)\n",
        "clovers = ('클로버1', '하트2', '클로버3')\n",
        "clovers[1] = '하트2' # 같은 문자로 넣어도 오류가 뜨는구나"
      ],
      "metadata": {
        "colab": {
          "base_uri": "https://localhost:8080/",
          "height": 180
        },
        "id": "sUWG58ln0qIV",
        "outputId": "d5ec4945-5566-438b-bf36-028dbef697ec"
      },
      "execution_count": null,
      "outputs": [
        {
          "output_type": "error",
          "ename": "TypeError",
          "evalue": "'tuple' object does not support item assignment",
          "traceback": [
            "\u001b[0;31m---------------------------------------------------------------------------\u001b[0m",
            "\u001b[0;31mTypeError\u001b[0m                                 Traceback (most recent call last)",
            "\u001b[0;32m<ipython-input-53-ab72a1c33e84>\u001b[0m in \u001b[0;36m<cell line: 0>\u001b[0;34m()\u001b[0m\n\u001b[1;32m      2\u001b[0m \u001b[0;31m# 코드 7-4 튜플에서 값을 수정을 시도해보기(불가능)\u001b[0m\u001b[0;34m\u001b[0m\u001b[0;34m\u001b[0m\u001b[0m\n\u001b[1;32m      3\u001b[0m \u001b[0mclovers\u001b[0m \u001b[0;34m=\u001b[0m \u001b[0;34m(\u001b[0m\u001b[0;34m'클로버1'\u001b[0m\u001b[0;34m,\u001b[0m \u001b[0;34m'하트2'\u001b[0m\u001b[0;34m,\u001b[0m \u001b[0;34m'클로버3'\u001b[0m\u001b[0;34m)\u001b[0m\u001b[0;34m\u001b[0m\u001b[0;34m\u001b[0m\u001b[0m\n\u001b[0;32m----> 4\u001b[0;31m \u001b[0mclovers\u001b[0m\u001b[0;34m[\u001b[0m\u001b[0;36m1\u001b[0m\u001b[0;34m]\u001b[0m \u001b[0;34m=\u001b[0m \u001b[0;34m'하트2'\u001b[0m \u001b[0;31m# 같은 문자로 넣어도 오류가 뜨는구나\u001b[0m\u001b[0;34m\u001b[0m\u001b[0;34m\u001b[0m\u001b[0m\n\u001b[0m",
            "\u001b[0;31mTypeError\u001b[0m: 'tuple' object does not support item assignment"
          ]
        }
      ]
    },
    {
      "cell_type": "code",
      "source": [
        "# 패킹과 언패킹\n",
        "# 코드 7-5 패킹과 언패킹을 하는 코드\n",
        "clovers = '클로버1', '클로버2', '클로버3'\n",
        "print(clovers)\n",
        "alice_blue = (240,248,255)\n",
        "r, g, b = alice_blue\n",
        "print('R:', r, 'G:', g, 'B:', b)  # r에 240, g에 248, b에 255가 매칭됨"
      ],
      "metadata": {
        "colab": {
          "base_uri": "https://localhost:8080/"
        },
        "id": "QitzEtbe02YD",
        "outputId": "64623d5f-748f-404c-8548-56ac9718c737"
      },
      "execution_count": null,
      "outputs": [
        {
          "output_type": "stream",
          "name": "stdout",
          "text": [
            "('클로버1', '클로버2', '클로버3')\n",
            "R: 240 G: 248 B: 255\n"
          ]
        }
      ]
    },
    {
      "cell_type": "code",
      "source": [
        "# 코드 7-6 두 변수의 값을 서로 교환하는 코드\n",
        "dodo = '박하맛'\n",
        "alice = '딸기맛'\n",
        "print('도도새: '+ dodo + ', 앨리스: '+alice)\n",
        "dodo, alice = alice, dodo\n",
        "print('도도새: '+ dodo + ', 앨리스: '+alice)\n"
      ],
      "metadata": {
        "colab": {
          "base_uri": "https://localhost:8080/"
        },
        "id": "xAWNIpEt1UkB",
        "outputId": "60221433-e617-43b0-8fce-afe3141551b0"
      },
      "execution_count": null,
      "outputs": [
        {
          "output_type": "stream",
          "name": "stdout",
          "text": [
            "도도새: 박하맛, 앨리스: 딸기맛\n",
            "도도새: 딸기맛, 앨리스: 박하맛\n"
          ]
        }
      ]
    },
    {
      "cell_type": "code",
      "source": [
        "# 58, 딕셔너리 {키1: 값1, 키2: 값2, ...}\n",
        "# 코드 7-7 딕셔너리를 만드는 코드\n",
        "my_dict1 = {}\n",
        "print(my_dict1)\n",
        "my_dict2 = {0:1,1:-2,2:3.14}\n",
        "print(my_dict2)\n",
        "my_dict3 = {'이름':'앨리스', '나이':10, '시력': [1.0, 1.2]}\n",
        "print(my_dict3)"
      ],
      "metadata": {
        "colab": {
          "base_uri": "https://localhost:8080/"
        },
        "id": "6fS_XftH2BDO",
        "outputId": "12e8c051-b7f0-4ae9-85d6-f04af88997d4"
      },
      "execution_count": null,
      "outputs": [
        {
          "output_type": "stream",
          "name": "stdout",
          "text": [
            "{}\n",
            "{0: 1, 1: -2, 2: 3.14}\n",
            "{'이름': '앨리스', '나이': 10, '시력': [1.0, 1.2]}\n"
          ]
        }
      ]
    },
    {
      "cell_type": "code",
      "source": [
        "# 59, 딕셔너리[추가할_키] = 추가할_값\n",
        "# 코드 7-8 딕셔너리에 키-값을 추가하는 코드\n",
        "clover = {'나이': 27, '직업': '병사'}\n",
        "print(clover)\n",
        "clover['번호'] = 9\n",
        "print(clover)"
      ],
      "metadata": {
        "colab": {
          "base_uri": "https://localhost:8080/"
        },
        "id": "S0hlw-_Q297D",
        "outputId": "88d7ff6d-595a-42cf-c429-075a9c39029a"
      },
      "execution_count": null,
      "outputs": [
        {
          "output_type": "stream",
          "name": "stdout",
          "text": [
            "{'나이': 27, '직업': '병사'}\n",
            "{'나이': 27, '직업': '병사', '번호': 9}\n"
          ]
        }
      ]
    },
    {
      "cell_type": "code",
      "source": [
        "# 60, 값에 접근하기 딕셔너리.get(접근할_키)\n",
        "# 코드 7-9 딕셔너리의 값에 접근하는 코드\n",
        "clover = {'나이': 27, '직업': '병사', '번호': 9}\n",
        "print(clover['번호'])\n",
        "clover['번호'] = 6 # 9에서 6으로 변경\n",
        "print(clover['번호']) # 없는 키를 찾으려고 하면 오류(KeyError)가 발생(ex.print(clover['이름']) -> 오류 발생 )\n",
        "print(clover.get('번호')) # 없는 키를 요청해도 에러 없이 None을 반환 (또는 기본값을 지정할 수 있음)"
      ],
      "metadata": {
        "colab": {
          "base_uri": "https://localhost:8080/"
        },
        "id": "-aBEypzf3rtm",
        "outputId": "238483ef-9a58-4073-c7c3-4cf4e0a9ca60"
      },
      "execution_count": null,
      "outputs": [
        {
          "output_type": "stream",
          "name": "stdout",
          "text": [
            "9\n",
            "6\n",
            "6\n"
          ]
        }
      ]
    },
    {
      "cell_type": "code",
      "source": [],
      "metadata": {
        "id": "8gHa41gY4RWv"
      },
      "execution_count": null,
      "outputs": []
    }
  ]
}