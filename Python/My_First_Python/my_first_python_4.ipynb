{
  "nbformat": 4,
  "nbformat_minor": 0,
  "metadata": {
    "colab": {
      "provenance": [],
      "include_colab_link": true
    },
    "kernelspec": {
      "name": "python3",
      "display_name": "Python 3"
    },
    "language_info": {
      "name": "python"
    }
  },
  "cells": [
    {
      "cell_type": "markdown",
      "metadata": {
        "id": "view-in-github",
        "colab_type": "text"
      },
      "source": [
        "<a href=\"https://colab.research.google.com/github/chanxxw/AIFFEL_quest_cr/blob/master/Python/My_First_Python/my_first_python_4.ipynb\" target=\"_parent\"><img src=\"https://colab.research.google.com/assets/colab-badge.svg\" alt=\"Open In Colab\"/></a>"
      ]
    },
    {
      "cell_type": "markdown",
      "source": [
        "## 내생애 첫 파이썬\n",
        "### 한입에쏙파이썬 책을 바탕으로 하는 모두모임\n",
        "- https://modulabs.co.kr/community/momos/188/crews\n",
        "- 공부용 유튜브 링크 : https://youtu.be/UrwFkNRzzT4?si=hbMEw2JqM8bA8Xgr\n",
        "- 학습 기간 : 2025.04.15.~24.\n",
        "- 매주 화, 목 15:00~17:00\n",
        "\n",
        "\n",
        "### 본 ipynb는 #61~#85 내용을 담고 있습니다."
      ],
      "metadata": {
        "id": "5eBZlp80fDjQ"
      }
    },
    {
      "cell_type": "code",
      "source": [
        "# 61 코드 7-10 딕셔너리에서 키-값을 제거하는 코드\n",
        "clover = {'나이' : 27, '직업' : '병사', '번호' : 6}\n",
        "print(clover)\n",
        "del clover['나이']\n",
        "print(clover)"
      ],
      "metadata": {
        "colab": {
          "base_uri": "https://localhost:8080/"
        },
        "id": "DSRcZIkHUoDS",
        "outputId": "54c98b98-4a2b-40e2-bdc7-f1bed997c2fc"
      },
      "execution_count": null,
      "outputs": [
        {
          "output_type": "stream",
          "name": "stdout",
          "text": [
            "{'나이': 27, '직업': '병사', '번호': 6}\n",
            "{'직업': '병사', '번호': 6}\n"
          ]
        }
      ]
    },
    {
      "cell_type": "code",
      "source": [
        "# 62 코드 7-11\n",
        "# 주문 1: '스페이드1'은 '비빔라면'을, '다이아2'는 '매운라면을 주문햇어요.\n",
        "# 주문 2: '클로버3'이 '카레라면'을 주문했어요.\n",
        "# 주문 3: '다이아2'가 '매운라면'을 '짜장라면'으로 바꿨어요.\n",
        "# 주문 4: 다이어트중인 '스페이드1'이 주문을 취소했어요.\n",
        "\n",
        "order = {'스페이드1' : '비빔라면', '다이아2' : '매운라면'} # 주문 1\n",
        "print(order)\n",
        "order['클로버3'] = '카레라면' # 주문 2\n",
        "print(order)\n",
        "order['다이아2'] = '짜장라면' # 주문 3\n",
        "print(order)\n",
        "del order['스페이드1'] # 주문 4\n",
        "print(order)"
      ],
      "metadata": {
        "colab": {
          "base_uri": "https://localhost:8080/"
        },
        "id": "K6u9KSZ0W2vj",
        "outputId": "bbf019db-a578-4fd1-a6b9-b12801026cd7"
      },
      "execution_count": null,
      "outputs": [
        {
          "output_type": "stream",
          "name": "stdout",
          "text": [
            "{'스페이드1': '비빔라면', '다이아2': '매운라면'}\n",
            "{'스페이드1': '비빔라면', '다이아2': '매운라면', '클로버3': '카레라면'}\n",
            "{'스페이드1': '비빔라면', '다이아2': '짜장라면', '클로버3': '카레라면'}\n",
            "{'다이아2': '짜장라면', '클로버3': '카레라면'}\n"
          ]
        }
      ]
    },
    {
      "cell_type": "code",
      "source": [
        "# 63 모든 카드 병사에게 유죄 판결을 내리는 코드, 8-1은 패스\n",
        "# 64 함수 내장 함수, 모듈의 함수, 사용자 정의 함수\n",
        "# 내장 함수 : 빌트인, 내장되어 있음. 바로 갖다 쓸 수 있음(print, range 등)\n",
        "# 모듈의 함수 : 비슷한 함수 끼리 묶어놓은 모듈을 불러와서 사용\n",
        "# 사용자 정의 함수 : 직접 만들어서 사용\n",
        "\n",
        "# 65 함수의 구조\n",
        "# def 함수_이름(인수):\n",
        "#   실행할_명령\n",
        "#   return 반환값\n",
        "\n",
        "# 코드 8-2 함수를 사용해 문자열을 출력하는 코드\n",
        "def my_func():\n",
        "  print('토끼야 안녕')\n",
        "my_func()\n"
      ],
      "metadata": {
        "colab": {
          "base_uri": "https://localhost:8080/"
        },
        "id": "POjPUsXkXxQ1",
        "outputId": "ac974477-65e3-4fee-d093-c32da5372e21"
      },
      "execution_count": null,
      "outputs": [
        {
          "output_type": "stream",
          "name": "stdout",
          "text": [
            "토끼야 안녕\n"
          ]
        }
      ]
    },
    {
      "cell_type": "code",
      "source": [
        "# 코드 8-3 함수를 사용해 두 개의 숫자를 더하는 코드\n",
        "def add(num1, num2):\n",
        "  return num1 + num2\n",
        "\n",
        "print(add(2,3))"
      ],
      "metadata": {
        "colab": {
          "base_uri": "https://localhost:8080/"
        },
        "id": "dHM5JOoOYxbg",
        "outputId": "fd82960d-7fba-4277-9fa6-72c9acbb1259"
      },
      "execution_count": null,
      "outputs": [
        {
          "output_type": "stream",
          "name": "stdout",
          "text": [
            "5\n"
          ]
        }
      ]
    },
    {
      "cell_type": "code",
      "source": [
        "# 코드 8-4 함수를 사용해 두 개의 숫자를 더하고 곱하는 코드\n",
        "def add_mul(num1, num2):\n",
        "  return num1 + num2, num1*num2\n",
        "print(add_mul(2,3)) # 튜플로 묶어서 출력해줌"
      ],
      "metadata": {
        "colab": {
          "base_uri": "https://localhost:8080/"
        },
        "id": "kmleCgBoZCSB",
        "outputId": "80ca46de-7b48-4fdb-c203-74c85c1a7b6c"
      },
      "execution_count": null,
      "outputs": [
        {
          "output_type": "stream",
          "name": "stdout",
          "text": [
            "(5, 6)\n"
          ]
        }
      ]
    },
    {
      "cell_type": "code",
      "source": [
        "# 66부터 https://www.youtube.com/watch?v=OpFrq7DklB4&list=PLGPF8gvWLYyontH0PECIUFFUdvATXWQEL&index=68\n",
        "# 입력받은 카드 병사에게 유죄 판결을 내리는 judge_cards 함수를 만드세요.\n",
        "# 이 함수를 사용해 하트 1~3, 클로버 1~3, 스페이드 1~3에게 판결을 내리세요\n",
        "\n",
        "def judge_card(name):\n",
        "  print(name, '1 유죄!')\n",
        "  print(name, '2 유죄!')\n",
        "  print(name, '3 유죄!')\n",
        "\n",
        "judge_card('하트')\n",
        "judge_card('클로버')\n",
        "judge_card('스페이드')"
      ],
      "metadata": {
        "colab": {
          "base_uri": "https://localhost:8080/"
        },
        "id": "QhQgJtKhZWP-",
        "outputId": "7fdd39a2-2916-4526-dd2e-e1a49f654467"
      },
      "execution_count": null,
      "outputs": [
        {
          "output_type": "stream",
          "name": "stdout",
          "text": [
            "하트 1 유죄!\n",
            "하트 2 유죄!\n",
            "하트 3 유죄!\n",
            "클로버 1 유죄!\n",
            "클로버 2 유죄!\n",
            "클로버 3 유죄!\n",
            "스페이드 1 유죄!\n",
            "스페이드 2 유죄!\n",
            "스페이드 3 유죄!\n"
          ]
        }
      ]
    },
    {
      "cell_type": "code",
      "source": [
        "# 내가 수정해보기, 하트와 클로버를 자동화하여 f-string을 활용해보자\n",
        "def judge_cards(suit_list, number_list):\n",
        "    for suit in suit_list:\n",
        "        for num in number_list:\n",
        "            print(f'{suit} {num} 유죄!')\n",
        "\n",
        "# 하트, 클로버, 스페이드의 1~3번 카드에 대해 판결\n",
        "card_suits = ['하트', '클로버', '스페이드']\n",
        "card_numbers = [1, 2, 3]\n",
        "\n",
        "judge_cards(card_suits, card_numbers)\n"
      ],
      "metadata": {
        "colab": {
          "base_uri": "https://localhost:8080/"
        },
        "id": "ggGnVAEbnfdy",
        "outputId": "d1c4a136-8ab2-448c-b481-c9d858a72707"
      },
      "execution_count": null,
      "outputs": [
        {
          "output_type": "stream",
          "name": "stdout",
          "text": [
            "하트 1 유죄!\n",
            "하트 2 유죄!\n",
            "하트 3 유죄!\n",
            "클로버 1 유죄!\n",
            "클로버 2 유죄!\n",
            "클로버 3 유죄!\n",
            "스페이드 1 유죄!\n",
            "스페이드 2 유죄!\n",
            "스페이드 3 유죄!\n"
          ]
        }
      ]
    },
    {
      "cell_type": "code",
      "source": [
        "# 67 모듈\n",
        "# import 모듈_이름\n",
        "# 68 랜덤하게 뽑기 import random\n",
        "# random.choice(리스트) : 1개 뽑음\n",
        "import random\n",
        "animals = ['체셔고양이', '오리', '도도새']\n",
        "print(random.choice(animals))\n",
        "# random.sample(리스트, 뽑을_개수)\n",
        "print(random.sample(animals, 2))\n",
        "# randint(시작 값, 끝값)\n",
        "import random\n",
        "print(random.randint(5, 10))"
      ],
      "metadata": {
        "colab": {
          "base_uri": "https://localhost:8080/"
        },
        "id": "hDTfr_bnn9y9",
        "outputId": "034c87e7-8296-4281-c303-196c92e44845"
      },
      "execution_count": null,
      "outputs": [
        {
          "output_type": "stream",
          "name": "stdout",
          "text": [
            "체셔고양이\n",
            "['도도새', '오리']\n",
            "7\n"
          ]
        }
      ]
    },
    {
      "cell_type": "code",
      "source": [
        "# 69 random.choice()를 사용해 cards에서 임의로 카드 병사 한 명을 뽑으세요.\n",
        "# 뽑힌 카드 병사에게 유죄 판결을 내리세요.\n",
        "# 코드 8-9\n",
        "import random\n",
        "cards = ['하트', '클로버', '스페이드']\n",
        "chosen_card = random.choice(cards)\n",
        "print(chosen_card, '유죄!')"
      ],
      "metadata": {
        "colab": {
          "base_uri": "https://localhost:8080/"
        },
        "id": "Mt24h0agqLgp",
        "outputId": "fe7d73ef-44ac-44b5-dcc1-8543ff7fc683"
      },
      "execution_count": null,
      "outputs": [
        {
          "output_type": "stream",
          "name": "stdout",
          "text": [
            "하트 유죄!\n"
          ]
        }
      ]
    },
    {
      "cell_type": "code",
      "source": [
        "# 70 모듈을 사용하는 이유\n",
        "# 71 연습문제\n",
        "print(3+1-2) # 2로 출력해야 함\n",
        "print((3-1)*2) # 4로 출력해야 함\n",
        "print((3-1)/2) # 1로 출력해야 함 1.0으로 출력이 아니라 1로 출력하려고 하면 (3*1-2)"
      ],
      "metadata": {
        "colab": {
          "base_uri": "https://localhost:8080/"
        },
        "id": "wi-1fQI-rEnH",
        "outputId": "1c142033-0986-4808-ee14-c72f92b65811"
      },
      "execution_count": null,
      "outputs": [
        {
          "output_type": "stream",
          "name": "stdout",
          "text": [
            "2\n",
            "4\n",
            "1.0\n"
          ]
        }
      ]
    },
    {
      "cell_type": "code",
      "source": [
        "num1 = 9\n",
        "num2 = 2\n",
        "print(num1//num2) # 몫을 구하는 거니까 4\n",
        "print(num1%num2) # 나머지를 구하는 거니까 1"
      ],
      "metadata": {
        "colab": {
          "base_uri": "https://localhost:8080/"
        },
        "id": "neMIIOemr4l0",
        "outputId": "7c74462c-4397-49c3-ce08-52629477626e"
      },
      "execution_count": null,
      "outputs": [
        {
          "output_type": "stream",
          "name": "stdout",
          "text": [
            "4\n",
            "1\n"
          ]
        }
      ]
    },
    {
      "cell_type": "code",
      "source": [
        "# 출력 결과가 다른 하나를 골라보기\n",
        "print(8/2) # 4.0\n",
        "print(2*2) # 4\n",
        "print(8.0/2) # 4.0\n",
        "print(8.5//2) # 4.0"
      ],
      "metadata": {
        "colab": {
          "base_uri": "https://localhost:8080/"
        },
        "id": "jTPkDwFYsQ4A",
        "outputId": "cb86c373-255a-4a89-fe82-ea6b39ddf227"
      },
      "execution_count": null,
      "outputs": [
        {
          "output_type": "stream",
          "name": "stdout",
          "text": [
            "4.0\n",
            "4\n",
            "4.0\n",
            "4.0\n"
          ]
        }
      ]
    },
    {
      "cell_type": "code",
      "source": [
        "# 딸기 11개를 3명의 친구들에게 나눠주려고 합니다. 나눠주고 남은 딸기의 갯수를 출력하는 코드를 작성하세요.\n",
        "print(11%3)"
      ],
      "metadata": {
        "colab": {
          "base_uri": "https://localhost:8080/"
        },
        "id": "to3Oic83si5h",
        "outputId": "81001cd3-06c8-4d97-b229-eb63bce0fbca"
      },
      "execution_count": null,
      "outputs": [
        {
          "output_type": "stream",
          "name": "stdout",
          "text": [
            "2\n"
          ]
        }
      ]
    },
    {
      "cell_type": "code",
      "source": [
        "# 다음 코드의 출력 결과를 적어보기\n",
        "print('2'+'4') # 24(string type)"
      ],
      "metadata": {
        "colab": {
          "base_uri": "https://localhost:8080/"
        },
        "id": "jnZB0W2qspqu",
        "outputId": "c0552b01-cc29-4f54-b4e6-0e50965c439b"
      },
      "execution_count": null,
      "outputs": [
        {
          "output_type": "stream",
          "name": "stdout",
          "text": [
            "24\n"
          ]
        }
      ]
    },
    {
      "cell_type": "code",
      "source": [
        "## 72\n",
        "# 다음 코드의 출력 결과를 적어보세요.\n",
        "alphabets = 'abc' + 'de' + 'f'\n",
        "print(alphabets) #abcdef\n",
        "# 다음 코드의 출력 결과를 적어보세요.\n",
        "print('말랑'*2) # 말랑말랑\n",
        "# 다음 코드의 출력 결과를 적어보세요.\n",
        "count = 1\n",
        "count = count + 1\n",
        "count = 1\n",
        "print(count) # 1\n",
        "# 다음 코드의 출력 결과를 적어보세요\n",
        "fruits = '자몽 레몬'\n",
        "print(fruits + '멜론') # 자몽 레몬멜론(쉼표는 자동 띄어쓰기, +는 안함)\n",
        "# 변수의 이름으로 적합한 것은?\n",
        "# _fruits : 가능\n",
        "# 2nd_candy : 숫자로 시작해서 아노딤\n",
        "# candy bag : 띄어쓰기 안됨\n",
        "# student_id : 가능"
      ],
      "metadata": {
        "colab": {
          "base_uri": "https://localhost:8080/"
        },
        "id": "1UZPlx01syWD",
        "outputId": "b9108f6c-4ce4-4d2c-e8fa-3e982f5a0673"
      },
      "execution_count": null,
      "outputs": [
        {
          "output_type": "stream",
          "name": "stdout",
          "text": [
            "abcdef\n",
            "말랑말랑\n",
            "1\n",
            "자몽 레몬멜론\n"
          ]
        }
      ]
    },
    {
      "cell_type": "code",
      "source": [
        "# 73 [1,2,3]으로 출력되도록 빈칸을 채워보기\n",
        "nums = [1,2,3]\n",
        "print(nums)\n",
        "\n",
        "for num in range(3):\n",
        "  print(num+1) # 이건 리스트로 출력하는게 아니군\n",
        "\n",
        "# 다음 코드의 출력 결과를 적어보세요.\n",
        "fruits = [] #  빈 리스트\n",
        "print(fruits) # []\n",
        "fruits.append('자몽')\n",
        "print(fruits) # ['자몽']\n",
        "fruits.append('멜론')\n",
        "print(fruits) # ['자몽', '멜론']\n",
        "fruits.append('레몬')\n",
        "print(fruits) # ['자몽', '멜론', '레몬']\n"
      ],
      "metadata": {
        "colab": {
          "base_uri": "https://localhost:8080/"
        },
        "id": "oFpHmpxys_-9",
        "outputId": "7cda7320-2a69-48e8-edeb-5c7cabfe18ec"
      },
      "execution_count": null,
      "outputs": [
        {
          "output_type": "stream",
          "name": "stdout",
          "text": [
            "[1, 2, 3]\n",
            "1\n",
            "2\n",
            "3\n",
            "[]\n",
            "['자몽']\n",
            "['자몽', '멜론']\n",
            "['자몽', '멜론', '레몬']\n"
          ]
        }
      ]
    },
    {
      "cell_type": "code",
      "source": [
        "# 다음 코드의 출력 결과를 적어보세요.\n",
        "fruits = ['자몽', '멜론', '레몬']\n",
        "print(fruits[1]) # 1번째인 멜론 출력\n",
        "# ['멜론', '레몬']으로 출력되도록 코드를 적어보기\n",
        "del fruits[0]\n",
        "print(fruits)"
      ],
      "metadata": {
        "colab": {
          "base_uri": "https://localhost:8080/"
        },
        "id": "erLnHaEDt4Ms",
        "outputId": "712999f3-a15e-4fe9-f077-7e69f3b01470"
      },
      "execution_count": null,
      "outputs": [
        {
          "output_type": "stream",
          "name": "stdout",
          "text": [
            "멜론\n",
            "['멜론', '레몬']\n"
          ]
        }
      ]
    },
    {
      "cell_type": "code",
      "source": [
        "# 다음 코드의 실행 결과를 골라보세요.\n",
        "fruits = ['멜론', '레몬']\n",
        "fruits[1] = '거봉' # 1번째를 거봉으로 치환\n",
        "print(fruits) # ['멜론', '거봉']"
      ],
      "metadata": {
        "colab": {
          "base_uri": "https://localhost:8080/"
        },
        "id": "1X4m5gIwudGc",
        "outputId": "211f9997-572c-4480-b786-10806a633e2a"
      },
      "execution_count": null,
      "outputs": [
        {
          "output_type": "stream",
          "name": "stdout",
          "text": [
            "['멜론', '거봉']\n"
          ]
        }
      ]
    },
    {
      "cell_type": "code",
      "source": [
        "# [1,2,3,4]를 만들기\n",
        "nums = [1,3]\n",
        "nums.insert(1,2) # 추가한 코드, insert 사용 결과값 [1,2,3]\n",
        "nums.append(3) # [1,2,3,3]\n",
        "nums[3] = 4 # 추가한 코드, 3번째 리스트를 4로 변경\n",
        "print(nums) # [1,2,3,4]"
      ],
      "metadata": {
        "colab": {
          "base_uri": "https://localhost:8080/"
        },
        "id": "1FuAEFNPu62e",
        "outputId": "465f6540-f996-4b09-959b-cc685aef9b71"
      },
      "execution_count": null,
      "outputs": [
        {
          "output_type": "stream",
          "name": "stdout",
          "text": [
            "[1, 2, 3, 4]\n"
          ]
        }
      ]
    },
    {
      "cell_type": "code",
      "source": [
        "# 다음 코드의 출력 결과를 적어보세요.\n",
        "nums = [1,2,3,4,5]\n",
        "print(nums[2]) # 2번째인 3\n",
        "print(nums[-3]) # 뒤에서 3번째인 3\n",
        "print(nums[0:3]) # 0번부터 2번째까지 [1,2,3]\n",
        "print(nums[2:5]) # 2번부터 (5-1)번째까지[3,4,5]\n"
      ],
      "metadata": {
        "colab": {
          "base_uri": "https://localhost:8080/"
        },
        "id": "7qWl92EZvev-",
        "outputId": "596abf0d-155e-429f-9d3d-5c1ffacb3451"
      },
      "execution_count": null,
      "outputs": [
        {
          "output_type": "stream",
          "name": "stdout",
          "text": [
            "3\n",
            "3\n",
            "[1, 2, 3]\n",
            "[3, 4, 5]\n"
          ]
        }
      ]
    },
    {
      "cell_type": "code",
      "source": [
        "# 다음 출력 코드의 결과를 적어보세요.\n",
        "nums = [1,1,1,2,2,3]\n",
        "print(nums.count(1)) # 3개니까 3"
      ],
      "metadata": {
        "colab": {
          "base_uri": "https://localhost:8080/"
        },
        "id": "jUl8iZkkvuxt",
        "outputId": "4d2a4b3b-9cb8-4c30-949c-db1a78d2505f"
      },
      "execution_count": null,
      "outputs": [
        {
          "output_type": "stream",
          "name": "stdout",
          "text": [
            "3\n"
          ]
        }
      ]
    },
    {
      "cell_type": "code",
      "source": [
        "fruits = ['멜론', '거봉', '레몬']\n",
        "# 가나다순으로 정렬\n",
        "# a = fruits.sort()\n",
        "# print(a) # none으로 출력됨 print(fruits.sort()) 도 none으로 출력됨\n",
        "print(sorted(fruits))\n",
        "print(fruits)\n",
        "fruits.sort()\n",
        "print(fruits)"
      ],
      "metadata": {
        "colab": {
          "base_uri": "https://localhost:8080/"
        },
        "id": "0lPaCuvxwVD6",
        "outputId": "0ef7a5d6-0d51-4bd4-f170-61c2d30e52f1"
      },
      "execution_count": null,
      "outputs": [
        {
          "output_type": "stream",
          "name": "stdout",
          "text": [
            "['거봉', '레몬', '멜론']\n",
            "['멜론', '거봉', '레몬']\n",
            "['거봉', '레몬', '멜론']\n"
          ]
        }
      ]
    },
    {
      "cell_type": "code",
      "source": [
        "# 75 for 문\n",
        "for num in [3,1,2]:\n",
        "  print(num)"
      ],
      "metadata": {
        "colab": {
          "base_uri": "https://localhost:8080/"
        },
        "id": "G432x77RxBTY",
        "outputId": "74bd0ca8-15ce-433b-9eb7-dbba3b19f6af"
      },
      "execution_count": null,
      "outputs": [
        {
          "output_type": "stream",
          "name": "stdout",
          "text": [
            "3\n",
            "1\n",
            "2\n"
          ]
        }
      ]
    },
    {
      "cell_type": "code",
      "source": [
        "for num in range(2): # 0, 1\n",
        "  print(num)"
      ],
      "metadata": {
        "colab": {
          "base_uri": "https://localhost:8080/"
        },
        "id": "uzJNT2dAxzCm",
        "outputId": "c77cc242-c306-4d89-c84b-2e4909e0f73b"
      },
      "execution_count": null,
      "outputs": [
        {
          "output_type": "stream",
          "name": "stdout",
          "text": [
            "0\n",
            "1\n"
          ]
        }
      ]
    },
    {
      "cell_type": "code",
      "source": [
        "clovers = ['클로버1','클로버2','클로버3']\n",
        "print(clovers[0])\n",
        "print(clovers[1])\n",
        "print(clovers[2])\n",
        "\n",
        "# 동일한 출력을 print를 한번만 사용해보기\n",
        "for num in range(3):\n",
        "  print(clovers[num])\n",
        "\n",
        "for clover in clovers: # 이 방법도 있군\n",
        "  print(clover)\n"
      ],
      "metadata": {
        "colab": {
          "base_uri": "https://localhost:8080/"
        },
        "id": "ls_PZXCOx8PE",
        "outputId": "fe8de873-3e67-4cf6-91b2-94801f1c27d3"
      },
      "execution_count": null,
      "outputs": [
        {
          "output_type": "stream",
          "name": "stdout",
          "text": [
            "클로버1\n",
            "클로버2\n",
            "클로버3\n",
            "클로버1\n",
            "클로버2\n",
            "클로버3\n",
            "클로버1\n",
            "클로버2\n",
            "클로버3\n"
          ]
        }
      ]
    },
    {
      "cell_type": "code",
      "source": [
        "# for와 range를 활용해서 * ** *** 출력해보기\n",
        "for num in range(3):\n",
        "  print(\"*\"*(num+1))"
      ],
      "metadata": {
        "colab": {
          "base_uri": "https://localhost:8080/"
        },
        "id": "G3LbtKDHyFew",
        "outputId": "0dcaab66-decc-43f4-eae2-81c4b79c9102"
      },
      "execution_count": null,
      "outputs": [
        {
          "output_type": "stream",
          "name": "stdout",
          "text": [
            "*\n",
            "**\n",
            "***\n"
          ]
        }
      ]
    },
    {
      "cell_type": "code",
      "source": [
        "# 76 리스트의 정수를 차례로 가져와 ** * ***의 3층짜리 별을 찍어보세요\n",
        "stars = [2, 1, 3]\n",
        "for num in stars:\n",
        "  print('*'*num)"
      ],
      "metadata": {
        "colab": {
          "base_uri": "https://localhost:8080/"
        },
        "id": "JzqbgXg3ys1I",
        "outputId": "27018482-050a-4e66-cf5d-460bbe035fbe"
      },
      "execution_count": null,
      "outputs": [
        {
          "output_type": "stream",
          "name": "stdout",
          "text": [
            "**\n",
            "*\n",
            "***\n"
          ]
        }
      ]
    },
    {
      "cell_type": "code",
      "source": [
        "# 리스트에 저장되어 있는 모든 카드 번호의 평균을 구해서 출력하세요.\n",
        "total = 0\n",
        "card_nums = [1,3,6,7]\n",
        "# 여기에 코드 추가\n",
        "for num in card_nums:\n",
        "  total = total + num\n",
        "print(total/4)"
      ],
      "metadata": {
        "colab": {
          "base_uri": "https://localhost:8080/"
        },
        "id": "12Kwiesty_0L",
        "outputId": "ed2d0b81-fdd0-46d0-93f4-d4b26a888984"
      },
      "execution_count": null,
      "outputs": [
        {
          "output_type": "stream",
          "name": "stdout",
          "text": [
            "4.25\n"
          ]
        }
      ]
    },
    {
      "cell_type": "code",
      "source": [
        "# 77 false, true\n",
        "switch = '켜짐'\n",
        "if switch == '켜짐':\n",
        "  print('조명이 켜졌어요.')"
      ],
      "metadata": {
        "colab": {
          "base_uri": "https://localhost:8080/"
        },
        "id": "wNiJtAxnzfGo",
        "outputId": "5204a571-2133-4152-fdf0-f378f5e3ee30"
      },
      "execution_count": null,
      "outputs": [
        {
          "output_type": "stream",
          "name": "stdout",
          "text": [
            "조명이 켜졌어요.\n"
          ]
        }
      ]
    },
    {
      "cell_type": "code",
      "source": [
        "# 절댓값을 구하는 코드를 작성하세요\n",
        "input_number = -9\n",
        "# 여기서부터 코드 작성\n",
        "if input_number >= 0:\n",
        "  absolute_value = input_number\n",
        "else:\n",
        "  absolute_value = input_number*(-1)\n",
        "\n",
        "print(absolute_value)"
      ],
      "metadata": {
        "colab": {
          "base_uri": "https://localhost:8080/"
        },
        "id": "pSQ6J4NS0FLd",
        "outputId": "17a5b755-5faa-4ba9-cb32-931769fb4a71"
      },
      "execution_count": null,
      "outputs": [
        {
          "output_type": "stream",
          "name": "stdout",
          "text": [
            "9\n"
          ]
        }
      ]
    },
    {
      "cell_type": "code",
      "source": [
        "# 78 [1,3,5,7,9]가 출력되도록 빈칸을 채워보기\n",
        "odd_nums = []\n",
        "odd = []\n",
        "for num in range(10):\n",
        "# 여기부터 코드 추가\n",
        "  if num%2 != 0:\n",
        "    odd.append(num)\n",
        "  odd_nums = odd\n",
        "print(odd_nums)\n",
        "# 더 좋은 답이 있을 것 같아. 정답은 아래"
      ],
      "metadata": {
        "colab": {
          "base_uri": "https://localhost:8080/"
        },
        "id": "eVGeOB8n0jIx",
        "outputId": "38a4f5d1-8498-4276-a8c0-8c5479ee4d67"
      },
      "execution_count": null,
      "outputs": [
        {
          "output_type": "stream",
          "name": "stdout",
          "text": [
            "[1, 3, 5, 7, 9]\n"
          ]
        }
      ]
    },
    {
      "cell_type": "code",
      "source": [
        "odd_nums = []\n",
        "for num in range(10):\n",
        "  if num%2 == 1:\n",
        "    odd_nums.append(num) # 아 원래 비어있는 리스트구나...\n",
        "print(odd_nums)"
      ],
      "metadata": {
        "colab": {
          "base_uri": "https://localhost:8080/"
        },
        "id": "bUpNPSZj1ofd",
        "outputId": "5316df7b-cafd-4eb4-b51f-b3cfccf6120d"
      },
      "execution_count": null,
      "outputs": [
        {
          "output_type": "stream",
          "name": "stdout",
          "text": [
            "[1, 3, 5, 7, 9]\n"
          ]
        }
      ]
    },
    {
      "cell_type": "code",
      "source": [
        "# 아래 조건을 참고해 윤년을 계산하는 코드를 작성하세요.\n",
        "# 연도가 400으로 나누어 떨어지면 윤년입니다.\n",
        "# 연수가 4로 나누어 떨어지면서 100으로 나누어 떨어지지 않으면 윤년입니다.\n",
        "year = 2016\n",
        "if year % 400 == 0:\n",
        "  print(year,\"년은 윤년입니다.\")\n",
        "elif year % 4 == 0 and year % 100 != 0: # and는 논리연산자\n",
        "  print(year,\"년은 윤년입니다.\")\n",
        "else:\n",
        "  print(year,\"년은 윤년이 아닙니다.\")"
      ],
      "metadata": {
        "colab": {
          "base_uri": "https://localhost:8080/"
        },
        "id": "_7_W5lYb19eX",
        "outputId": "520cd377-1760-4d7c-db96-ee7b1da1836e"
      },
      "execution_count": null,
      "outputs": [
        {
          "output_type": "stream",
          "name": "stdout",
          "text": [
            "2016 년은 윤년입니다.\n"
          ]
        }
      ]
    },
    {
      "cell_type": "code",
      "source": [
        "# 79\n",
        "count = 0\n",
        "while count < 3:\n",
        "  print(count)\n",
        "  count = count + 1 # 0, 1, 2"
      ],
      "metadata": {
        "colab": {
          "base_uri": "https://localhost:8080/"
        },
        "id": "vcHSwc5v2kiv",
        "outputId": "c17a498c-14b3-475a-b96a-cfd951be3d58"
      },
      "execution_count": null,
      "outputs": [
        {
          "output_type": "stream",
          "name": "stdout",
          "text": [
            "0\n",
            "1\n",
            "2\n"
          ]
        }
      ]
    },
    {
      "cell_type": "code",
      "source": [
        "# 2, 3, 4를 출력하기\n",
        "count = 1\n",
        "while count < 4:\n",
        "  count = count + 1\n",
        "  print(count)"
      ],
      "metadata": {
        "colab": {
          "base_uri": "https://localhost:8080/"
        },
        "id": "twbrs_Gs3JkW",
        "outputId": "725aeb50-1a2b-4817-c6d6-dfc5ebcdd2a6"
      },
      "execution_count": null,
      "outputs": [
        {
          "output_type": "stream",
          "name": "stdout",
          "text": [
            "2\n",
            "3\n",
            "4\n"
          ]
        }
      ]
    },
    {
      "cell_type": "code",
      "source": [
        "# 다음 코드의 출력 결과를 적어보기\n",
        "count = 0\n",
        "while count <= 5: # 0,1,2,3,4,5\n",
        "  if count%2 != 0: # 홀수면\n",
        "    print(count) # 프린트\n",
        "  count = count + 1"
      ],
      "metadata": {
        "colab": {
          "base_uri": "https://localhost:8080/"
        },
        "id": "Q_n2_YzJ3WRp",
        "outputId": "b3c32e30-ebdc-435f-961f-2c4670179518"
      },
      "execution_count": null,
      "outputs": [
        {
          "output_type": "stream",
          "name": "stdout",
          "text": [
            "1\n",
            "3\n",
            "5\n"
          ]
        }
      ]
    },
    {
      "cell_type": "code",
      "source": [
        "# while을 사용해서 1부터 5까지 총합을 구하기\n",
        "total = 0\n",
        "count = 1\n",
        "while count <= 5:\n",
        "# 여기서부터 코드 작성\n",
        "  total = total + count\n",
        "  count = count + 1\n",
        "print('총합은', total)"
      ],
      "metadata": {
        "colab": {
          "base_uri": "https://localhost:8080/"
        },
        "id": "2vjD0K9X3rHa",
        "outputId": "1eb0e5c5-0368-4895-a05a-760070c6a964"
      },
      "execution_count": null,
      "outputs": [
        {
          "output_type": "stream",
          "name": "stdout",
          "text": [
            "총합은 15\n"
          ]
        }
      ]
    },
    {
      "cell_type": "code",
      "source": [
        "# 3 부터 거꾸로 세는 코드 작성하기\n",
        "count = 3\n",
        "while count > 0:\n",
        "  print(count)\n",
        "  count = count - 1"
      ],
      "metadata": {
        "colab": {
          "base_uri": "https://localhost:8080/"
        },
        "id": "hAJ7Vgly3-6G",
        "outputId": "cc9f62c1-0900-4ff7-c68e-473acb5657d4"
      },
      "execution_count": null,
      "outputs": [
        {
          "output_type": "stream",
          "name": "stdout",
          "text": [
            "3\n",
            "2\n",
            "1\n"
          ]
        }
      ]
    },
    {
      "cell_type": "code",
      "source": [
        "# 80 1,2,3을 출력하는 while True:를 사용하기\n",
        "num = 1\n",
        "while True:\n",
        "  if num > 3:\n",
        "    break\n",
        "  else:\n",
        "    print(num)\n",
        "    num = num + 1\n"
      ],
      "metadata": {
        "colab": {
          "base_uri": "https://localhost:8080/"
        },
        "id": "nHQ6xoPh4Xgf",
        "outputId": "89ebd588-7449-4e1a-da3e-0d7f27869cba"
      },
      "execution_count": null,
      "outputs": [
        {
          "output_type": "stream",
          "name": "stdout",
          "text": [
            "1\n",
            "2\n",
            "3\n"
          ]
        }
      ]
    },
    {
      "cell_type": "code",
      "source": [
        "# 81 82\n",
        "alice = {}\n",
        "alice['성별'] = '여'\n",
        "alice['나이'] = 13\n",
        "alice['혈액형'] = 'AB'\n",
        "print(alice)"
      ],
      "metadata": {
        "colab": {
          "base_uri": "https://localhost:8080/"
        },
        "id": "3_7Ldyfs-xqz",
        "outputId": "63cc3167-2950-45cf-fd86-f2ae73482824"
      },
      "execution_count": null,
      "outputs": [
        {
          "output_type": "stream",
          "name": "stdout",
          "text": [
            "{'성별': '여', '나이': 13, '혈액형': 'AB'}\n"
          ]
        }
      ]
    },
    {
      "cell_type": "code",
      "source": [
        "# 83 *** ** * 가 나오도록 함수 설정하기\n",
        "def draw_stars(num):\n",
        "  print('*'*num)\n",
        "\n",
        "draw_stars(3)\n",
        "draw_stars(2)\n",
        "draw_stars(1)\n"
      ],
      "metadata": {
        "colab": {
          "base_uri": "https://localhost:8080/"
        },
        "id": "X-282gwY_3qs",
        "outputId": "f8c87d1a-bb9a-465d-cf08-dd145caa6771"
      },
      "execution_count": null,
      "outputs": [
        {
          "output_type": "stream",
          "name": "stdout",
          "text": [
            "***\n",
            "**\n",
            "*\n"
          ]
        }
      ]
    },
    {
      "cell_type": "code",
      "source": [
        "# 빨주노초파남보 나오도록 concat함수 만들기\n",
        "def concat(a, b):\n",
        "  print(a + b)\n",
        "  return a + b\n",
        "\n",
        "print(concat('빨주노초','파남보'))"
      ],
      "metadata": {
        "colab": {
          "base_uri": "https://localhost:8080/"
        },
        "id": "uZ6Hzl3mArEF",
        "outputId": "b94a9de7-ebe2-4fe3-e26f-4819a5dfa63e"
      },
      "execution_count": null,
      "outputs": [
        {
          "output_type": "stream",
          "name": "stdout",
          "text": [
            "빨주노초파남보\n",
            "빨주노초파남보\n"
          ]
        }
      ]
    },
    {
      "cell_type": "code",
      "source": [
        "# sub_div() 만들기\n",
        "def sub_div(a, b):\n",
        "  return a-b, a/b\n",
        "\n",
        "print(sub_div(6,3))"
      ],
      "metadata": {
        "colab": {
          "base_uri": "https://localhost:8080/"
        },
        "id": "NXgWIntnA2pT",
        "outputId": "0dd1791a-3bba-4231-df2b-2804ac47ae1c"
      },
      "execution_count": null,
      "outputs": [
        {
          "output_type": "stream",
          "name": "stdout",
          "text": [
            "(3, 2.0)\n"
          ]
        }
      ]
    },
    {
      "cell_type": "code",
      "source": [
        "def judge_card(a, nums):\n",
        "  for num in range(nums):\n",
        "    print(a, num+1, '유죄!')\n",
        "  return\n",
        "judge_card('하트', 2)\n",
        "judge_card('클로버', 3)"
      ],
      "metadata": {
        "colab": {
          "base_uri": "https://localhost:8080/"
        },
        "id": "a-9KbnovBU_X",
        "outputId": "256425f4-1be8-49f9-aba3-a742a2f8988d"
      },
      "execution_count": null,
      "outputs": [
        {
          "output_type": "stream",
          "name": "stdout",
          "text": [
            "하트 1 유죄!\n",
            "하트 2 유죄!\n",
            "클로버 1 유죄!\n",
            "클로버 2 유죄!\n",
            "클로버 3 유죄!\n"
          ]
        }
      ]
    },
    {
      "cell_type": "code",
      "source": [
        "# 84 무작위로 한 장의 카드를 뽑아보기\n",
        "import random\n",
        "clovers = ['클로버1','클로버2','클로버3']\n",
        "print(random.choice(clovers))\n",
        "# 두장 뽑기\n",
        "print(random.sample(clovers, 2))"
      ],
      "metadata": {
        "colab": {
          "base_uri": "https://localhost:8080/"
        },
        "id": "WbAnNsZEBuyx",
        "outputId": "55c3dc94-0478-4ddf-9037-1d0bf3a2c87c"
      },
      "execution_count": null,
      "outputs": [
        {
          "output_type": "stream",
          "name": "stdout",
          "text": [
            "클로버3\n",
            "['클로버2', '클로버1']\n"
          ]
        }
      ]
    },
    {
      "cell_type": "code",
      "source": [
        "import random\n",
        "\n",
        "birth_year = ['시끄러운 ', '푸른 ', '적색 ', '조용한 ', '웅크린 ', '백색 ', '지혜로운 ', '용감한 ', '날카로운 ', '욕심많은 ']\n",
        "birth_month = ['늑대', '태양', '양', '매', '황소', '불꽃', '나무', '달빛', '말', '돼지', '하늘', '바람']\n",
        "birth_date = ['와(과) 함께 춤을', '의 기상', '은(는) 그림자 속에', '', '', '', '', '의 환생', '의 죽음', '아래에서',\n",
        "              '을(를) 보라', '이(가) 노래하다', ' 그림자', '의 일격', '에게 꽃기를 남자', '의 행진', '의 왕', '의 유령',\n",
        "              '을(를) 죽인자', '은(는) 맨날 잠잔다', '처럼', '의 고향', '의 전사', '은(는) 나의 친구', '의 노래', '의 정령',\n",
        "              '의 파수꾼', '의 악마', '와(과) 같은 사나이', '을(를) 쓰러트린자', '의 혼', '은(는) 말이 없다']\n",
        "\n",
        "random_name = random.choice(birth_year) + random.choice(birth_month) + random.choice(birth_date)\n",
        "\n",
        "print('당신의 인디언식 이름은', random_name, '입니다.')\n"
      ],
      "metadata": {
        "colab": {
          "base_uri": "https://localhost:8080/"
        },
        "id": "qJQGYbOuCSOW",
        "outputId": "6ee09665-e5bf-4910-851a-63d9a3ffa278"
      },
      "execution_count": null,
      "outputs": [
        {
          "output_type": "stream",
          "name": "stdout",
          "text": [
            "당신의 인디언식 이름은 웅크린 말 입니다.\n"
          ]
        }
      ]
    },
    {
      "cell_type": "code",
      "source": [
        "# 85 끝!"
      ],
      "metadata": {
        "id": "WQAJinAuC5Ue"
      },
      "execution_count": null,
      "outputs": []
    }
  ]
}