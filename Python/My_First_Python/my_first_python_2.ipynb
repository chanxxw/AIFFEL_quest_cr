{
  "nbformat": 4,
  "nbformat_minor": 0,
  "metadata": {
    "colab": {
      "provenance": [],
      "include_colab_link": true
    },
    "kernelspec": {
      "name": "python3",
      "display_name": "Python 3"
    },
    "language_info": {
      "name": "python"
    }
  },
  "cells": [
    {
      "cell_type": "markdown",
      "metadata": {
        "id": "view-in-github",
        "colab_type": "text"
      },
      "source": [
        "<a href=\"https://colab.research.google.com/github/chanxxw/AIFFEL_quest_cr/blob/master/Python/My_First_Python/my_first_python_2.ipynb\" target=\"_parent\"><img src=\"https://colab.research.google.com/assets/colab-badge.svg\" alt=\"Open In Colab\"/></a>"
      ]
    },
    {
      "cell_type": "markdown",
      "source": [
        "## 내생애 첫 파이썬\n",
        "### 한입에쏙파이썬 책을 바탕으로 하는 모두모임\n",
        "- https://modulabs.co.kr/community/momos/188/crews\n",
        "- 공부용 유튜브 링크 : https://youtu.be/UrwFkNRzzT4?si=hbMEw2JqM8bA8Xgr\n",
        "- 학습 기간 : 2025.04.15.~24.\n",
        "- 매주 화, 목 15:00~17:00\n",
        "\n",
        "\n",
        "### 본 ipynb는 #20~#37 내용을 담고 있습니다."
      ],
      "metadata": {
        "id": "9hZfitym20GS"
      }
    },
    {
      "cell_type": "code",
      "source": [
        "# 코드 3-1, 여러 개의 변수에 사탕을 저장하는 코드\n",
        "candy0 = '딸기맛'\n",
        "print(candy0)\n",
        "candy1 = '레몬맛'\n",
        "print(candy1)\n",
        "candy2 = '수박맛'\n",
        "print(candy2)\n",
        "candy3 = '박하맛'\n",
        "print(candy3)\n",
        "candy4 = '우유맛'\n",
        "print(candy4)"
      ],
      "metadata": {
        "colab": {
          "base_uri": "https://localhost:8080/"
        },
        "id": "g2smRU7y7dYD",
        "outputId": "cbf36af3-ff64-4c7d-c5d2-759111d0b572"
      },
      "execution_count": null,
      "outputs": [
        {
          "output_type": "stream",
          "name": "stdout",
          "text": [
            "딸기맛\n",
            "레몬맛\n",
            "수박맛\n",
            "박하맛\n",
            "우유맛\n"
          ]
        }
      ]
    },
    {
      "cell_type": "code",
      "source": [
        "# 코드 3-2 여러 개의 사탕을 하나의 변수에 저장하는 코드\n",
        "candies = ['딸기맛', '레몬맛', '수박맛', '박하맛', '우유맛']\n",
        "print(candies)"
      ],
      "metadata": {
        "colab": {
          "base_uri": "https://localhost:8080/"
        },
        "id": "uB5rjBKw73Zm",
        "outputId": "bc53e6a2-9156-4fbe-b41e-ef7cbead3898"
      },
      "execution_count": null,
      "outputs": [
        {
          "output_type": "stream",
          "name": "stdout",
          "text": [
            "['딸기맛', '레몬맛', '수박맛', '박하맛', '우유맛']\n"
          ]
        }
      ]
    },
    {
      "cell_type": "code",
      "source": [
        "# 코드 3-3 리스트를 만드는 코드\n",
        "my_list1 = [] # 빈 리스트 생성\n",
        "print(my_list1)\n",
        "my_list2 = [1, -2, 3.14]\n",
        "print(my_list2)\n",
        "my_list3 = ['엘리스', 10, [1.0, 1.2]]\n",
        "print(my_list3)"
      ],
      "metadata": {
        "colab": {
          "base_uri": "https://localhost:8080/"
        },
        "id": "c2OQoCjh8JVD",
        "outputId": "a4018202-0fcc-461d-9e09-4dda5c1f5b8c"
      },
      "execution_count": null,
      "outputs": [
        {
          "output_type": "stream",
          "name": "stdout",
          "text": [
            "[]\n",
            "[1, -2, 3.14]\n",
            "['엘리스', 10, [1.0, 1.2]]\n"
          ]
        }
      ]
    },
    {
      "cell_type": "code",
      "source": [
        "# 리스트에 내용 추가하기(뒤에) : 리스트.append(추가할_값)\n",
        "# 코드 3-4 리스트에 값을 추가하는 코드\n",
        "clovers = [] # 빈 리스트\n",
        "clovers.append('클로버1')\n",
        "clovers.append('클로버2')\n",
        "clovers.append('클로버3')\n",
        "print(clovers)\n",
        "clovers.append('하트2')\n",
        "print(clovers)\n",
        "\n",
        "# 모모에서 추가된 내용 insert(a, b) a번째 자리에 b를 추가\n",
        "# clovers.insert(0, '클로버0')"
      ],
      "metadata": {
        "colab": {
          "base_uri": "https://localhost:8080/"
        },
        "id": "0SUJljMC8PFN",
        "outputId": "d15d508b-24e9-43dc-8dc0-283afdb39419"
      },
      "execution_count": null,
      "outputs": [
        {
          "output_type": "stream",
          "name": "stdout",
          "text": [
            "['클로버1', '클로버2', '클로버3']\n",
            "['클로버1', '클로버2', '클로버3', '하트2']\n"
          ]
        }
      ]
    },
    {
      "cell_type": "code",
      "source": [
        "# 리스트에서 해당하는 순서 뽑기 : 리스트[접근할 인덱스] , 순서가 0부터 시작한다는 것을 잊지 말자\n",
        "# 코드 3-5 리스트의 값에 접근하는 코드\n",
        "clovers = ['클로버1', '하트2', '클로버3']  # 각각의 인덱스는 0, 1, 2\n",
        "print(clovers[1])"
      ],
      "metadata": {
        "colab": {
          "base_uri": "https://localhost:8080/"
        },
        "id": "6fyr1kbe82N8",
        "outputId": "9bab09c2-f12f-4381-901f-84edb22fbbef"
      },
      "execution_count": null,
      "outputs": [
        {
          "output_type": "stream",
          "name": "stdout",
          "text": [
            "하트2\n"
          ]
        }
      ]
    },
    {
      "cell_type": "code",
      "source": [
        "# 리스트에서 해당 목록을 제거할 때 : del 리스트[제거할_인덱스], 한번 지우고나면 인덱스가 변하므로, 여러번 사용하려면 주의가 필요할 듯 함\n",
        "# 코드 3-6 리스트에서 값을 제거하는 코드\n",
        "clovers = ['클로버1', '클로버2', '클로버3']\n",
        "print(clovers[1])\n",
        "del clovers[1]\n",
        "print(clovers[1])"
      ],
      "metadata": {
        "colab": {
          "base_uri": "https://localhost:8080/"
        },
        "id": "0YoVofCF9RuO",
        "outputId": "2d288f63-26c2-408b-8f74-22e737df661f"
      },
      "execution_count": null,
      "outputs": [
        {
          "output_type": "stream",
          "name": "stdout",
          "text": [
            "클로버2\n",
            "클로버3\n"
          ]
        }
      ]
    },
    {
      "cell_type": "code",
      "source": [
        "# 코드 3-7 사탕을 추가하고 제거하는 코드, .append()와 del 을 사용하자\n",
        "candies = ['딸기맛', '레몬맛', '수박맛', '박하맛', '우유맛']\n",
        "print(candies)\n",
        "candies.append('콜라맛') # 마지막에 콜라맛 추가\n",
        "candies.append('포도맛') # 마지막에 포도맛 추가\n",
        "print(candies)\n",
        "\n",
        "del candies[3] # 4번째 리스트인 박하맛 제거\n",
        "print(candies)\n",
        "\n",
        "# 모모에서 추가된 pop\n",
        "# candies.pop() 마지막에 있는 것을 팝(날려버려)\n",
        "# candies.pop(a) a번째 자리에 있는 것을 날려버려"
      ],
      "metadata": {
        "colab": {
          "base_uri": "https://localhost:8080/"
        },
        "id": "qhSOPPKi9mHQ",
        "outputId": "4d9fc006-2a59-471b-814d-8aa5b714425e"
      },
      "execution_count": null,
      "outputs": [
        {
          "output_type": "stream",
          "name": "stdout",
          "text": [
            "['딸기맛', '레몬맛', '수박맛', '박하맛', '우유맛']\n",
            "['딸기맛', '레몬맛', '수박맛', '박하맛', '우유맛', '콜라맛', '포도맛']\n",
            "['딸기맛', '레몬맛', '수박맛', '우유맛', '콜라맛', '포도맛']\n"
          ]
        }
      ]
    },
    {
      "cell_type": "code",
      "source": [
        "# 코드 3-8 리스트에서 여러 개의 값을 가져오는 코드 리스트[시작_인덱스:끝_인덱스+1], 이거 많이 헷갈림\n",
        "week = ['월','화','수','목','금','토','일']\n",
        "print(week)\n",
        "print(week[2:5]) # 3번째인 수부터 5번인 금까지 출력됨\n",
        "print(week[-1:])\n",
        "print(week[:3])"
      ],
      "metadata": {
        "colab": {
          "base_uri": "https://localhost:8080/"
        },
        "id": "3GQs7mzj-B_M",
        "outputId": "cea083ec-db4a-4aff-d19a-9005a56a648a"
      },
      "execution_count": null,
      "outputs": [
        {
          "output_type": "stream",
          "name": "stdout",
          "text": [
            "['월', '화', '수', '목', '금', '토', '일']\n",
            "['수', '목', '금']\n",
            "['일']\n",
            "['월', '화', '수']\n"
          ]
        }
      ]
    },
    {
      "cell_type": "code",
      "source": [
        "candies = ['딸기맛', '레몬맛', '수박맛', '우유맛', \"콜라맛\", '포도맛', \"김맛\"]\n",
        "# 체셔 고양이에게는 '딸기맛', 오리에게는 '레몬맛' 사탕을 주세요.\n",
        "cat_candy = candies[0]\n",
        "duck_candy = candies[1]\n",
        "print(\"체셔 고양이에게는\", cat_candy, \"사탕을 줘요\")\n",
        "print(\"오리에게는\", duck_candy, \"사탕을 줘요\")\n",
        "\n",
        "# 덩치가 큰 도도새에게는 '우유맛', '콜라맛', '포도맛' 사탕을 주세요\n",
        "dodo_candies = candies[2:6]\n",
        "print(\"덩치가 큰 도도새에게는\", dodo_candies, \"사탕을 줘요\")\n"
      ],
      "metadata": {
        "colab": {
          "base_uri": "https://localhost:8080/"
        },
        "id": "bhFqQWs6-tdB",
        "outputId": "ea55463e-8eaa-4ef2-8f7e-c6c07640d79e"
      },
      "execution_count": null,
      "outputs": [
        {
          "output_type": "stream",
          "name": "stdout",
          "text": [
            "체셔 고양이에게는 딸기맛 사탕을 줘요\n",
            "오리에게는 레몬맛 사탕을 줘요\n",
            "덩치가 큰 도도새에게는 ['수박맛', '우유맛', '콜라맛', '포도맛'] 사탕을 줘요\n"
          ]
        }
      ]
    },
    {
      "cell_type": "code",
      "source": [
        "# 3-10 리스트의 문자열을 정렬하는 코드; 리스트.sort() 이렇게 하면 가나다로 정렬함\n",
        "animals = ['체셔고양이', '오리', '도도새']\n",
        "print(animals)\n",
        "animals.sort()\n",
        "print(animals)\n",
        "\n",
        "# 영상에서 더 공부해보라고 해서 GPT로 찾아봄(이건 공부한거니까..!)\n",
        "animals.sort(reverse=True) # 역순으로 정렬\n",
        "print(animals)\n",
        "\n",
        "animals.sort(key=len) # 글자 길이수로 정렬\n",
        "print(animals)\n",
        "\n",
        "animals.sort(key=len, reverse=True) # 글자 길이수의 역순으로 정렬\n",
        "print(animals)\n",
        "\n",
        "# len : 리스트 안에 갯수가 몇개인지\n",
        "# print(len(animals))"
      ],
      "metadata": {
        "colab": {
          "base_uri": "https://localhost:8080/"
        },
        "id": "jde86nk2A3TT",
        "outputId": "45d7e49a-f955-4609-803e-5dc4402ba116"
      },
      "execution_count": null,
      "outputs": [
        {
          "output_type": "stream",
          "name": "stdout",
          "text": [
            "['체셔고양이', '오리', '도도새']\n",
            "['도도새', '오리', '체셔고양이']\n",
            "['체셔고양이', '오리', '도도새']\n",
            "['오리', '도도새', '체셔고양이']\n",
            "['체셔고양이', '도도새', '오리']\n"
          ]
        }
      ]
    },
    {
      "cell_type": "code",
      "source": [
        "# 리스트.count(세어볼_값)\n",
        "cards = ['하트', '클로버', '하트', '다이아']\n",
        "print(cards.count('하트'))\n",
        "print(cards.count('다이아'))\n"
      ],
      "metadata": {
        "colab": {
          "base_uri": "https://localhost:8080/"
        },
        "id": "CSk0qr0HBYYX",
        "outputId": "d79a4abb-d37e-4769-8d32-9a0af4d8508f"
      },
      "execution_count": null,
      "outputs": [
        {
          "output_type": "stream",
          "name": "stdout",
          "text": [
            "2\n",
            "1\n"
          ]
        }
      ]
    },
    {
      "cell_type": "code",
      "source": [
        "# 거북이 5000마리에게 모두 인사를 하려면 for 문을 활용하자\n",
        "# for 변수 in 리스트:\n",
        "#   실행할 명령\n",
        "\n",
        "for num in range(10):\n",
        "    print('안녕 거북이', num) # 0번부터 9번까지"
      ],
      "metadata": {
        "colab": {
          "base_uri": "https://localhost:8080/"
        },
        "id": "W9L9qqfzCAQN",
        "outputId": "2e9147ef-0aff-4b50-9c96-d7b09ced6473"
      },
      "execution_count": null,
      "outputs": [
        {
          "output_type": "stream",
          "name": "stdout",
          "text": [
            "안녕 거북이 0\n",
            "안녕 거북이 1\n",
            "안녕 거북이 2\n",
            "안녕 거북이 3\n",
            "안녕 거북이 4\n",
            "안녕 거북이 5\n",
            "안녕 거북이 6\n",
            "안녕 거북이 7\n",
            "안녕 거북이 8\n",
            "안녕 거북이 9\n"
          ]
        }
      ]
    },
    {
      "cell_type": "code",
      "source": [
        "# 코드 4-4 리스트의 문자열을 차례대로 출력하는 코드\n",
        "characters = ['엘리스', '도도새', '3월토끼']\n",
        "for character in characters: # character; 변수, character; 리스트\n",
        "    print(character)\n",
        "print('구분용')\n",
        "for character in characters: # character; 변수, character; 리스트\n",
        "    print(characters) # characters로 출력하면?"
      ],
      "metadata": {
        "colab": {
          "base_uri": "https://localhost:8080/"
        },
        "id": "zaeVi0R-CNJE",
        "outputId": "a8a29767-3f0a-4ae4-b1ed-6b8e2880ccb9"
      },
      "execution_count": null,
      "outputs": [
        {
          "output_type": "stream",
          "name": "stdout",
          "text": [
            "엘리스\n",
            "도도새\n",
            "3월토끼\n",
            "구분용\n",
            "['엘리스', '도도새', '3월토끼']\n",
            "['엘리스', '도도새', '3월토끼']\n",
            "['엘리스', '도도새', '3월토끼']\n"
          ]
        }
      ]
    },
    {
      "cell_type": "code",
      "source": [
        "# 코드 4-3 리스트의 숫자를 차례대로 출력하는 코드\n",
        "for num in [0,1,2]:\n",
        "    print(num)\n",
        "\n",
        "for num in [1,2,3]:\n",
        "  print(num)\n",
        "\n",
        "nums = [7,8,9]\n",
        "for num in nums:\n",
        "  print(num)\n",
        "  nums.pop(0)\n",
        "print(num)"
      ],
      "metadata": {
        "colab": {
          "base_uri": "https://localhost:8080/"
        },
        "id": "-b__5p0NC6jW",
        "outputId": "7c15c911-d8bc-4403-e7ce-0283b95533bf"
      },
      "execution_count": null,
      "outputs": [
        {
          "output_type": "stream",
          "name": "stdout",
          "text": [
            "0\n",
            "1\n",
            "2\n",
            "1\n",
            "2\n",
            "3\n",
            "7\n",
            "9\n",
            "9\n"
          ]
        }
      ]
    },
    {
      "cell_type": "code",
      "source": [
        "# 코드 4-5 모든 신하에게 퇴장명령을 내리는 코드\n",
        "players = ['공작부인', '흰 토끼', '하트잭', '모자장수']\n",
        "# for와 print()를 사용해 players 모두에게 퇴장명령을 내려보세요\n",
        "for num in players: # num으로 해도 되고 변수니까 하고 싶은 대로 하면 됩니다\n",
        "    print(num, \"나가!\")"
      ],
      "metadata": {
        "colab": {
          "base_uri": "https://localhost:8080/"
        },
        "id": "cz-kKL-UDKpq",
        "outputId": "0ba75758-8570-4322-c7b8-0be7093439fd"
      },
      "execution_count": null,
      "outputs": [
        {
          "output_type": "stream",
          "name": "stdout",
          "text": [
            "공작부인 나가!\n",
            "흰 토끼 나가!\n",
            "하트잭 나가!\n",
            "모자장수 나가!\n"
          ]
        }
      ]
    },
    {
      "cell_type": "code",
      "source": [
        "# 코드 4-6 문자열의 문자를 하나씩 출력하는 코드\n",
        "for letter in '체셔고양이':\n",
        "    print(letter) # 한글자씩 엔터치면서 쳐짐"
      ],
      "metadata": {
        "colab": {
          "base_uri": "https://localhost:8080/"
        },
        "id": "DhT6xRLpDm3K",
        "outputId": "22ffc390-2f25-40f1-a3a9-e2d6ca7a7ca3"
      },
      "execution_count": null,
      "outputs": [
        {
          "output_type": "stream",
          "name": "stdout",
          "text": [
            "체\n",
            "셔\n",
            "고\n",
            "양\n",
            "이\n"
          ]
        }
      ]
    },
    {
      "cell_type": "code",
      "source": [
        "# 코드 4-8 리스트의 숫자를 차례대로 출력하는 코드\n",
        "nums = [0,1,2]\n",
        "for num in nums: # num;변수, nums;리스트\n",
        "    print(num) # 변수를 출력합니다\n",
        "    print(nums) # 리스트를 출력합니다\n",
        "print('---')\n",
        "for num in nums: # num;변수, nums;리스트\n",
        "    print(num) # 변수를 출력합니다\n",
        "print(nums) # 리스트를 출력하지만 루프에서 빠졌지"
      ],
      "metadata": {
        "colab": {
          "base_uri": "https://localhost:8080/"
        },
        "id": "jXaPZ-EFDyzo",
        "outputId": "26e069b7-3ec9-4a30-ba68-dc822ff40769"
      },
      "execution_count": null,
      "outputs": [
        {
          "output_type": "stream",
          "name": "stdout",
          "text": [
            "0\n",
            "[0, 1, 2]\n",
            "1\n",
            "[0, 1, 2]\n",
            "2\n",
            "[0, 1, 2]\n",
            "---\n",
            "0\n",
            "1\n",
            "2\n",
            "[0, 1, 2]\n"
          ]
        }
      ]
    },
    {
      "cell_type": "code",
      "source": [
        "# 코드 4-9, 0부터 2까지 차례대로 출력하는 코드 range(끝_값+1)\n",
        "# range()는 숫자 시퀀스(연속된 숫자들의 나열)를 생성해주는 내장 함수\n",
        "for num in range(3):\n",
        "    print(num)"
      ],
      "metadata": {
        "colab": {
          "base_uri": "https://localhost:8080/"
        },
        "id": "xRBllVJVEBgn",
        "outputId": "378570b8-9aac-4cd3-97ec-4998c26f41e3"
      },
      "execution_count": null,
      "outputs": [
        {
          "output_type": "stream",
          "name": "stdout",
          "text": [
            "0\n",
            "1\n",
            "2\n"
          ]
        }
      ]
    },
    {
      "cell_type": "code",
      "source": [
        "# 코드 4-10 구구단 2단을 출력하는 코드\n",
        "for y in range(1,10):\n",
        "    print(2,\"*\", y, \"=\", 2*y)"
      ],
      "metadata": {
        "colab": {
          "base_uri": "https://localhost:8080/"
        },
        "id": "tATgXzKyEU_Q",
        "outputId": "b84c8fdb-5028-4aef-9dea-f0c1794c866d"
      },
      "execution_count": null,
      "outputs": [
        {
          "output_type": "stream",
          "name": "stdout",
          "text": [
            "2 * 1 = 2\n",
            "2 * 2 = 4\n",
            "2 * 3 = 6\n",
            "2 * 4 = 8\n",
            "2 * 5 = 10\n",
            "2 * 6 = 12\n",
            "2 * 7 = 14\n",
            "2 * 8 = 16\n",
            "2 * 9 = 18\n"
          ]
        }
      ]
    },
    {
      "cell_type": "code",
      "source": [
        "# 코드 4-11 모든 '하얀장미'를 '빨간장미'로 바꾸는 코드\n",
        "# for와 리스트의 인덱스를 사용해 roses의 '하얀장미'를 모두 '빨간장미'로 바꿔주세요\n",
        "roses = ['하얀장미','하얀장미','하얀장미']\n",
        "for i in range(3):\n",
        "    roses[i] = '빨간장미'\n",
        "print(roses)\n",
        "\n",
        "print('--')\n",
        "# ==를 사용해서 찾아서 바꾸기\n",
        "roses_1 = ['하얀장미', '하얀장미', '하얀장미']\n",
        "roses_1 = ['빨간장미' if rose_1 == '하얀장미' else rose_1 for rose_1 in roses_1]\n",
        "print(roses_1)"
      ],
      "metadata": {
        "colab": {
          "base_uri": "https://localhost:8080/"
        },
        "id": "3V4Hob9SEoQm",
        "outputId": "233533cf-1efb-4c5b-a7f5-8fd33870b18b"
      },
      "execution_count": null,
      "outputs": [
        {
          "output_type": "stream",
          "name": "stdout",
          "text": [
            "['빨간장미', '빨간장미', '빨간장미']\n",
            "--\n",
            "['빨간장미', '빨간장미', '빨간장미']\n"
          ]
        }
      ]
    },
    {
      "cell_type": "code",
      "source": [
        "# 코드 5-1 True와 False (대문자 주의)\n",
        "print(True)\n",
        "print(type(True))\n",
        "print(False)\n",
        "print(type(False))"
      ],
      "metadata": {
        "colab": {
          "base_uri": "https://localhost:8080/"
        },
        "id": "cnDlPT6AFEto",
        "outputId": "315b836c-715b-4cc9-8204-a0e3e24acc76"
      },
      "execution_count": null,
      "outputs": [
        {
          "output_type": "stream",
          "name": "stdout",
          "text": [
            "True\n",
            "<class 'bool'>\n",
            "False\n",
            "<class 'bool'>\n"
          ]
        }
      ]
    },
    {
      "cell_type": "code",
      "source": [],
      "metadata": {
        "id": "cM7lZL_QFmnP"
      },
      "execution_count": null,
      "outputs": []
    }
  ]
}