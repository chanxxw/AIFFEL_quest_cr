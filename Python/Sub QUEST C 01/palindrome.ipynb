{
  "nbformat": 4,
  "nbformat_minor": 0,
  "metadata": {
    "colab": {
      "provenance": [],
      "include_colab_link": true
    },
    "kernelspec": {
      "name": "python3",
      "display_name": "Python 3"
    },
    "language_info": {
      "name": "python"
    }
  },
  "cells": [
    {
      "cell_type": "markdown",
      "metadata": {
        "id": "view-in-github",
        "colab_type": "text"
      },
      "source": [
        "<a href=\"https://colab.research.google.com/github/chanxxw/AIFFEL_quest_cr/blob/master/AIFFEL_quest_cr/Python/Sub%20QUEST%20C%2001/Untitled0.ipynb\" target=\"_parent\"><img src=\"https://colab.research.google.com/assets/colab-badge.svg\" alt=\"Open In Colab\"/></a>"
      ]
    },
    {
      "cell_type": "code",
      "execution_count": null,
      "metadata": {
        "id": "u8Ung143pi2m",
        "colab": {
          "base_uri": "https://localhost:8080/"
        },
        "collapsed": true,
        "outputId": "5a3b6cb3-8e33-44e4-c4c5-d1ad3da85af4"
      },
      "outputs": [
        {
          "output_type": "stream",
          "name": "stdout",
          "text": [
            "원하는 단어를 입력합니다:adda\n",
            "회문된 단어입니다 adda\n",
            "회문이 맞습니다\n"
          ]
        }
      ],
      "source": [
        "\n",
        "# Python/Quest01\n",
        "# coder : 김우찬, 김지영\n",
        "\n",
        "# 회문인지 확인하는 프로그램 작성\n",
        "# 자료형, 제어문, 함수를 활용한다\n",
        "\n",
        "# 단어를 입력받기\n",
        "a = input('원하는 단어를 입력합니다:')\n",
        "\n",
        "# 회문된 단어와 회문인지 확인하는 함수입니다. w 에 문자열을 입력\n",
        "def new_word(w):\n",
        "  i = len(w)\n",
        "  nw = w[-1:-i-1:-1]   # 새로운 nw 에 w의 -1번째 항목부터 -i-1번째 항목까지 거꾸로(-1씩 올려서) 입력해준다\n",
        "  print('회문된 단어입니다',nw)\n",
        "  if nw == w :  # 두 단어가 일치할시 회문으로 확인됨\n",
        "    print ('회문이 맞습니다')\n",
        "  else:\n",
        "    print ('회문이 아닙니다')\n",
        "\n",
        "new_word(a)"
      ]
    }
  ]
}
